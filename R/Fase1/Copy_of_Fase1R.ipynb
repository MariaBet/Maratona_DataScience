{
  "nbformat": 4,
  "nbformat_minor": 0,
  "metadata": {
    "colab": {
      "name": "Copy of Fase1R.ipynb",
      "provenance": [],
      "collapsed_sections": []
    },
    "kernelspec": {
      "name": "ir",
      "display_name": "R"
    }
  },
  "cells": [
    {
      "cell_type": "markdown",
      "metadata": {
        "id": "Z2Kl9pfj0JKM",
        "colab_type": "text"
      },
      "source": [
        "# Seja ensinável e execute as tarefas compartilhadas. Por fins didáticos e para melhor separação mental das sintaxes Python/R, realizaremos todos os exercícios de Python em R.\n",
        "![alt text](https://media.giphy.com/media/d3mlE7uhX8KFgEmY/200.gif)"
      ]
    },
    {
      "cell_type": "markdown",
      "metadata": {
        "id": "j9ZuOU7Kyh9O",
        "colab_type": "text"
      },
      "source": [
        "Crie um algoritmo em R que mostre a mensagem \"Alo mundo\" na tela."
      ]
    },
    {
      "cell_type": "code",
      "metadata": {
        "id": "tlFupLd-ydTB",
        "colab_type": "code",
        "outputId": "992b8105-d64e-4d50-fab0-4ca9a00d3e33",
        "colab": {
          "base_uri": "https://localhost:8080/",
          "height": 34
        }
      },
      "source": [
        "# INSIRA SEU CÓDIGO AQUI\n",
        "x <- (\"Alo Mundo\")\n",
        "print(x)"
      ],
      "execution_count": 0,
      "outputs": [
        {
          "output_type": "stream",
          "text": [
            "[1] \"Alo Mundo\"\n"
          ],
          "name": "stdout"
        }
      ]
    },
    {
      "cell_type": "markdown",
      "metadata": {
        "id": "yhw2owA-zbrn",
        "colab_type": "text"
      },
      "source": [
        "Crie um algoritmo em R que peça dois números e imprima a soma."
      ]
    },
    {
      "cell_type": "code",
      "metadata": {
        "id": "RJJtXkvV0qzj",
        "colab_type": "code",
        "outputId": "203b2feb-3bc5-4354-9bad-6711ae428b7a",
        "colab": {
          "base_uri": "https://localhost:8080/",
          "height": 68
        }
      },
      "source": [
        "# INSIRA SEU CÓDIGO AQUI\n",
        "num1 = as.integer(readline(\"Digite um número: \"))\n",
        "num2 = as.integer(readline(\"Digite um número: \"))\n",
        "\n",
        "soma <- num1+num2\n",
        "print(soma)"
      ],
      "execution_count": 0,
      "outputs": [
        {
          "output_type": "stream",
          "text": [
            "Digite um número: 23\n",
            "Digite um número: 3\n",
            "[1] 26\n"
          ],
          "name": "stdout"
        }
      ]
    },
    {
      "cell_type": "markdown",
      "metadata": {
        "id": "35RwPIIF0w3i",
        "colab_type": "text"
      },
      "source": [
        "Crie um algoritmo em R que peça um número e então mostre a mensagem O número informado foi [número]."
      ]
    },
    {
      "cell_type": "code",
      "metadata": {
        "id": "NEFu-8L808HB",
        "colab_type": "code",
        "outputId": "ef302b06-8290-4324-c2a2-96e85bd52fc5",
        "colab": {
          "base_uri": "https://localhost:8080/",
          "height": 51
        }
      },
      "source": [
        "# INSIRA SEU CÓDIGO AQUI\n",
        "numero = as.integer(readline(\"Digite um número: \"))\n",
        "print(paste(\"O número informado foi\", numero))\n"
      ],
      "execution_count": 0,
      "outputs": [
        {
          "output_type": "stream",
          "text": [
            "Digite um número: 23\n",
            "[1] \"O número informado foi 23\"\n"
          ],
          "name": "stdout"
        }
      ]
    },
    {
      "cell_type": "markdown",
      "metadata": {
        "id": "_OGQmoYA08bI",
        "colab_type": "text"
      },
      "source": [
        "Crie um algoritmo em R que converta metros para centímetros."
      ]
    },
    {
      "cell_type": "code",
      "metadata": {
        "id": "xxgmQ5j21Abx",
        "colab_type": "code",
        "outputId": "8db79c1b-d46f-49f1-babb-a1bb340e67ee",
        "colab": {
          "base_uri": "https://localhost:8080/",
          "height": 51
        }
      },
      "source": [
        "# INSIRA SEU CÓDIGO AQUI\n",
        "metros = as.numeric(readline(\"Digite um número em metros: \"))\n",
        "centimetros = (metros*100)\n",
        "print(paste(\"A conversão de Metros para centímetros é: \", centimetros))\n",
        "\n"
      ],
      "execution_count": 0,
      "outputs": [
        {
          "output_type": "stream",
          "text": [
            "Digite um número em metros: 560\n",
            "[1] \"A conversão de Metros para centímetros é:  56000\"\n"
          ],
          "name": "stdout"
        }
      ]
    },
    {
      "cell_type": "markdown",
      "metadata": {
        "id": "kP9TOwKo1AnS",
        "colab_type": "text"
      },
      "source": [
        "Crie um algoritmo em Python que peça as 4 notas bimestrais e mostre a média."
      ]
    },
    {
      "cell_type": "code",
      "metadata": {
        "id": "Tj5xsjC-1D5I",
        "colab_type": "code",
        "outputId": "185d317f-5229-4305-dbff-df7538cfc7b5",
        "colab": {
          "base_uri": "https://localhost:8080/",
          "height": 102
        }
      },
      "source": [
        "# INSIRA SEU CÓDIGO AQUI\n",
        "nota1 = as.numeric(readline(\"Digite uma nota: \"))\n",
        "nota2 = as.numeric(readline(\"Digite uma nota: \"))\n",
        "nota3 = as.numeric(readline(\"Digite uma nota: \"))\n",
        "nota4 = as.numeric(readline(\"Digite uma nota: \"))\n",
        "\n",
        "media = (nota1 + nota2 + nota3 + nota4) / 4\n",
        "\n",
        "print(paste(\"A média das noatas são: \", media))"
      ],
      "execution_count": 0,
      "outputs": [
        {
          "output_type": "stream",
          "text": [
            "Digite uma nota: 23.5\n",
            "Digite uma nota: 24.5\n",
            "Digite uma nota: 25\n",
            "Digite uma nota: 24.5\n",
            "[1] \"A média das noatas são:  24.375\"\n"
          ],
          "name": "stdout"
        }
      ]
    },
    {
      "cell_type": "markdown",
      "metadata": {
        "id": "6vgD9pl81EGd",
        "colab_type": "text"
      },
      "source": [
        "Crie um algoritmo em R que peça o raio de um círculo, calcule e mostre sua área."
      ]
    },
    {
      "cell_type": "code",
      "metadata": {
        "id": "3h1VOEuR1KGz",
        "colab_type": "code",
        "outputId": "5408df1c-d31f-4403-e12f-15ef1d9208b7",
        "colab": {
          "base_uri": "https://localhost:8080/",
          "height": 51
        }
      },
      "source": [
        "# INSIRA SEU CÓDIGO AQUI\n",
        "raio = as.numeric(readline(\"Digite o raio aqui: \"))\n",
        "pi = 3.14\n",
        "circulo = pi*(raio*raio)\n",
        "\n",
        "print(paste(\"A área do Raio é: \", circulo))"
      ],
      "execution_count": 0,
      "outputs": [
        {
          "output_type": "stream",
          "text": [
            "Digite o raio aqui: 5\n",
            "[1] \"A área do Raio é:  78.5\"\n"
          ],
          "name": "stdout"
        }
      ]
    },
    {
      "cell_type": "markdown",
      "metadata": {
        "id": "QXhvPnMQ1Kd6",
        "colab_type": "text"
      },
      "source": [
        "Crie um algoritmo em R que calcule a área de um quadrado, em seguida mostre o dobro desta área para o usuário."
      ]
    },
    {
      "cell_type": "code",
      "metadata": {
        "id": "ywZkuhmt1N7l",
        "colab_type": "code",
        "outputId": "25d26ce1-0508-4479-a2b5-01e04386aeb9",
        "colab": {
          "base_uri": "https://localhost:8080/",
          "height": 51
        }
      },
      "source": [
        "# INSIRA SEU CÓDIGO AQUI\n",
        "altura = as.numeric(readline(\"Digite a altura aqui: \"))\n",
        "quadrado = altura*altura\n",
        "\n",
        "print(paste(\"A o dobro da área é: \", quadrado*2))"
      ],
      "execution_count": 0,
      "outputs": [
        {
          "output_type": "stream",
          "text": [
            "Digite a altura aqui: 50\n",
            "[1] \"A o dobro da área é:  5000\"\n"
          ],
          "name": "stdout"
        }
      ]
    },
    {
      "cell_type": "markdown",
      "metadata": {
        "id": "F-rpjggB1T5G",
        "colab_type": "text"
      },
      "source": [
        "Crie um algoritmo em R que pergunte quanto você ganha por hora e o número de horas trabalhadas no mês. Calcule e mostre o total do seu salário no referido mês.\n"
      ]
    },
    {
      "cell_type": "code",
      "metadata": {
        "id": "nvMchfOZ2_vC",
        "colab_type": "code",
        "outputId": "1f16ea13-3e98-45e3-e644-557583ab6fd8",
        "colab": {
          "base_uri": "https://localhost:8080/",
          "height": 51
        }
      },
      "source": [
        "# INSIRA SEU CÓDIGO AQUI\n",
        "hora = as.numeric(readline(\"Quanto você ganha por hora?: \"))\n",
        "\n",
        "salario = (hora*8)* 30\n",
        "\n",
        "print(paste(\"Meu é salário é: \", salario))"
      ],
      "execution_count": 0,
      "outputs": [
        {
          "output_type": "stream",
          "text": [
            "Quanto você ganha por hora?: 6.8\n",
            "[1] \"Meu é salário é:  1632\"\n"
          ],
          "name": "stdout"
        }
      ]
    },
    {
      "cell_type": "markdown",
      "metadata": {
        "id": "C-H4OWh03DFn",
        "colab_type": "text"
      },
      "source": [
        "Crie um algoritmo em R que peça a temperatura em graus Farenheit, transforme e mostre a temperatura em graus Celsius.\n",
        "C = (5 * (F-32) / 9)."
      ]
    },
    {
      "cell_type": "code",
      "metadata": {
        "id": "vs5qFAKx3Eyi",
        "colab_type": "code",
        "outputId": "f302444b-91d5-4d9c-cee7-df0e4397a6d8",
        "colab": {
          "base_uri": "https://localhost:8080/",
          "height": 51
        }
      },
      "source": [
        "# INSIRA SEU CÓDIGO AQUI\n",
        "f = as.numeric(readline(\"Digite a temperatura em Farenheit: \"))\n",
        "\n",
        "c = (f - 32) * 5 / 9\n",
        "\n",
        "print(paste(\"A temperatura em graus Celsius é: \", c))"
      ],
      "execution_count": 0,
      "outputs": [
        {
          "output_type": "stream",
          "text": [
            "Digite a temperatura em Farenheit: 152\n",
            "[1] \"A temperatura em graus Celsius é:  66.6666666666667\"\n"
          ],
          "name": "stdout"
        }
      ]
    },
    {
      "cell_type": "markdown",
      "metadata": {
        "id": "PGccudSo3E54",
        "colab_type": "text"
      },
      "source": [
        "Crie um algoritmo em R que peça a temperatura em graus Celsius, transforme e mostre em graus Farenheit."
      ]
    },
    {
      "cell_type": "code",
      "metadata": {
        "id": "_zfLyopV3IqV",
        "colab_type": "code",
        "outputId": "44b05c84-45c7-4cee-98f5-49bae9bda0ec",
        "colab": {
          "base_uri": "https://localhost:8080/",
          "height": 51
        }
      },
      "source": [
        "# INSIRA SEU CÓDIGO AQUI\n",
        "c = as.numeric(readline(\"Digite a temperatura em Celsius: \"))\n",
        "\n",
        "f = 9 * c / 5 + 32\n",
        "\n",
        "print(paste(\"A temperatura em graus Farenheit é: \", f))"
      ],
      "execution_count": 0,
      "outputs": [
        {
          "output_type": "stream",
          "text": [
            "Digite a temperatura em Celsius: 66.66\n",
            "[1] \"A temperatura em graus Farenheit é:  151.988\"\n"
          ],
          "name": "stdout"
        }
      ]
    },
    {
      "cell_type": "markdown",
      "metadata": {
        "id": "bu3Zyati3Iwc",
        "colab_type": "text"
      },
      "source": [
        "Crie um algoritmo em R que peça 2 números inteiros e um número real. Calcule e mostre:\n",
        "* a soma do dobro do primeiro com metade do segundo .\n",
        "* a soma do triplo do primeiro com o terceiro.\n",
        "* o terceiro elevado ao cubo."
      ]
    },
    {
      "cell_type": "code",
      "metadata": {
        "id": "Peo4D5Sz3PDC",
        "colab_type": "code",
        "outputId": "06581bf0-53df-4270-e7f0-01a8dda5393a",
        "colab": {
          "base_uri": "https://localhost:8080/",
          "height": 119
        }
      },
      "source": [
        "# INSIRA SEU CÓDIGO AQUI\n",
        "num1 = as.numeric(readline(\"Digite um número: \"))\n",
        "num2 = as.numeric(readline(\"Digite um número: \"))\n",
        "num3 = as.numeric(readline(\"Digite um número Real: \"))\n",
        "\n",
        "resultado1 = num1*2*(num2/2)\n",
        "resultado2 = num1*3 + num3\n",
        "resultado3 = num3 **3\n",
        "\n",
        "print(paste('A soma do dobro do primeiro com metade do segundo: ', resultado1))\n",
        "print(paste('A soma do triplo do primeiro com o terceiro: ', resultado2))\n",
        "print(paste('O terceiro elevado ao cubo: ', resultado3))"
      ],
      "execution_count": 0,
      "outputs": [
        {
          "output_type": "stream",
          "text": [
            "Digite um número: 52\n",
            "Digite um número: 63\n",
            "Digite um número Real: 23.2\n",
            "[1] \"A soma do dobro do primeiro com metade do segundo:  3276\"\n",
            "[1] \"A soma do triplo do primeiro com o terceiro:  179.2\"\n",
            "[1] \"O terceiro elevado ao cubo:  12487.168\"\n"
          ],
          "name": "stdout"
        }
      ]
    }
  ]
}