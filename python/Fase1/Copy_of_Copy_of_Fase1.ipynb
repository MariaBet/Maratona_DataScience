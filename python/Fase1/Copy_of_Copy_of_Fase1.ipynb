{
  "nbformat": 4,
  "nbformat_minor": 0,
  "metadata": {
    "colab": {
      "name": "Copy of Copy of Fase1.ipynb",
      "provenance": [],
      "collapsed_sections": []
    },
    "kernelspec": {
      "name": "python3",
      "display_name": "Python 3"
    }
  },
  "cells": [
    {
      "cell_type": "markdown",
      "metadata": {
        "id": "CYNAmoj4zSXl",
        "colab_type": "text"
      },
      "source": [
        "Crie um algoritmo em Python que mostre a mensagem \"Alo mundo\" na tela."
      ]
    },
    {
      "cell_type": "code",
      "metadata": {
        "id": "ViAfpy3GzPN-",
        "colab_type": "code",
        "outputId": "49edc5cc-761d-4e83-98d0-a5db6b3e1109",
        "colab": {
          "base_uri": "https://localhost:8080/",
          "height": 34
        }
      },
      "source": [
        "# INSIRA SEU CÓDIGO AQUI\n",
        "print(\"Alo Mundo\")"
      ],
      "execution_count": 0,
      "outputs": [
        {
          "output_type": "stream",
          "text": [
            "Alo Mundo\n"
          ],
          "name": "stdout"
        }
      ]
    },
    {
      "cell_type": "markdown",
      "metadata": {
        "id": "gdMis92izSmQ",
        "colab_type": "text"
      },
      "source": [
        "Crie um algoritmo em Python que peça dois números e imprima a soma."
      ]
    },
    {
      "cell_type": "code",
      "metadata": {
        "id": "BFpWkdCBz_zh",
        "colab_type": "code",
        "outputId": "696b3a1e-4a00-4497-ce28-f62b87795549",
        "colab": {
          "base_uri": "https://localhost:8080/",
          "height": 68
        }
      },
      "source": [
        "# INSIRA SEU CÓDIGO AQUI\n",
        "num1 = int(input(\"Digite um número: \"))\n",
        "num2 = int(input(\"Digite um segundo número: \"))\n",
        "soma = num1 + num2\n",
        "print(soma)"
      ],
      "execution_count": 0,
      "outputs": [
        {
          "output_type": "stream",
          "text": [
            "Digite um número: 23\n",
            "Digite um segundo número: 23\n",
            "46\n"
          ],
          "name": "stdout"
        }
      ]
    },
    {
      "cell_type": "markdown",
      "metadata": {
        "id": "E_0l_Vx6zSo2",
        "colab_type": "text"
      },
      "source": [
        "Crie um algoritmo em Python que peça um número e então mostre a mensagem O número informado foi [número]."
      ]
    },
    {
      "cell_type": "code",
      "metadata": {
        "id": "KwJf7XZS0AZW",
        "colab_type": "code",
        "outputId": "dda806b9-3cfe-432c-c0aa-019a57e776a5",
        "colab": {
          "base_uri": "https://localhost:8080/",
          "height": 51
        }
      },
      "source": [
        "# INSIRA SEU CÓDIGO AQUI\n",
        "numero = int(input(\"Digite um número Please!: \"))\n",
        "print(f'O número informado foi {numero}')"
      ],
      "execution_count": 0,
      "outputs": [
        {
          "output_type": "stream",
          "text": [
            "Digite um número Please!: 23\n",
            "Onúmero informado foi 23\n"
          ],
          "name": "stdout"
        }
      ]
    },
    {
      "cell_type": "markdown",
      "metadata": {
        "id": "1i4VCiiczSrL",
        "colab_type": "text"
      },
      "source": [
        "Crie um algoritmo em Python que converta metros para centímetros."
      ]
    },
    {
      "cell_type": "code",
      "metadata": {
        "id": "yoW67hjA0BHy",
        "colab_type": "code",
        "outputId": "2b2f5f29-81c2-4580-9adc-5c4976abef58",
        "colab": {
          "base_uri": "https://localhost:8080/",
          "height": 51
        }
      },
      "source": [
        "# INSIRA SEU CÓDIGO AQUI\n",
        "metros = float(input(\"Digite um número em Metros: \"))\n",
        "centimetros = float(metros * 100)\n",
        "\n",
        "print(f'A conversão de metros para centimentro é: {centimetros}')\n"
      ],
      "execution_count": 0,
      "outputs": [
        {
          "output_type": "stream",
          "text": [
            "Digite um número em Metros: 500\n",
            "A conversão de metros para centimentro é: 50000.0\n"
          ],
          "name": "stdout"
        }
      ]
    },
    {
      "cell_type": "markdown",
      "metadata": {
        "id": "4ep7kezvzStO",
        "colab_type": "text"
      },
      "source": [
        "Crie um algoritmo em Python que peça as 4 notas bimestrais e mostre a média."
      ]
    },
    {
      "cell_type": "code",
      "metadata": {
        "id": "6K6IHWdr0Blt",
        "colab_type": "code",
        "outputId": "079dbbbc-85b9-4936-c28a-0837fb9200fe",
        "colab": {
          "base_uri": "https://localhost:8080/",
          "height": 102
        }
      },
      "source": [
        "# INSIRA SEU CÓDIGO AQUI\n",
        "nota1 = float(input(\"Digite o valor da nota de matemática: \"))\n",
        "nota2 = float(input(\"Digite o valor da nota de português: \"))\n",
        "nota3 = float(input(\"Digite o valor da nota de ciências: \"))\n",
        "nota4 = float(input(\"Digite o valor da nota de inglês: \"))\n",
        "\n",
        "media = (nota1 + nota2 + nota3 + nota4) / 4\n",
        "\n",
        "print(f'A media das notas são: {media:.2f}'.format(media))"
      ],
      "execution_count": 0,
      "outputs": [
        {
          "output_type": "stream",
          "text": [
            "Digite o valor da nota de matemática: 23.5\n",
            "Digite o valor da nota de português: 24.5\n",
            "Digite o valor da nota de ciências: 25\n",
            "Digite o valor da nota de inglês: 24.5\n",
            "A media das notas são: 24.38\n"
          ],
          "name": "stdout"
        }
      ]
    },
    {
      "cell_type": "markdown",
      "metadata": {
        "id": "u6__NaXqzeYg",
        "colab_type": "text"
      },
      "source": [
        "Crie um algoritmo em Python que peça o raio de um círculo, calcule e mostre sua área."
      ]
    },
    {
      "cell_type": "code",
      "metadata": {
        "id": "mm2L7g3x0Cfx",
        "colab_type": "code",
        "outputId": "4cb22bda-fd0f-4b0c-cf4d-6f5e96f17bbe",
        "colab": {
          "base_uri": "https://localhost:8080/",
          "height": 51
        }
      },
      "source": [
        "# INSIRA SEU CÓDIGO AQUI\n",
        "raio = float(input(\"Digite o raio aqui: \"))\n",
        "pi = 3.14\n",
        "circulo = pi * (raio * raio)\n",
        "print(f\"A área do Raio é: {circulo:.2f}\".format(circulo))"
      ],
      "execution_count": 0,
      "outputs": [
        {
          "output_type": "stream",
          "text": [
            "Digite o raio aqui: 5\n",
            "A área do Raio é: 78.50\n"
          ],
          "name": "stdout"
        }
      ]
    },
    {
      "cell_type": "markdown",
      "metadata": {
        "id": "lIlfG-ATzgOr",
        "colab_type": "text"
      },
      "source": [
        "Crie um algoritmo em Python que calcule a área de um quadrado, em seguida mostre o dobro desta área para o usuário."
      ]
    },
    {
      "cell_type": "code",
      "metadata": {
        "id": "-y4pB6br0DD_",
        "colab_type": "code",
        "outputId": "743b8a23-6a41-40ce-dc98-419189097d93",
        "colab": {
          "base_uri": "https://localhost:8080/",
          "height": 51
        }
      },
      "source": [
        "# INSIRA SEU CÓDIGO AQUI\n",
        "altura = int(input(\"Digite a altura do quadrado: \"))\n",
        "\n",
        "quadrado = altura * altura\n",
        "\n",
        "print(f'O dobro da área é {quadrado*2}')"
      ],
      "execution_count": 0,
      "outputs": [
        {
          "output_type": "stream",
          "text": [
            "Digite a altura do quadrado: 50\n",
            "O dobro da área é 5000\n"
          ],
          "name": "stdout"
        }
      ]
    },
    {
      "cell_type": "markdown",
      "metadata": {
        "id": "Vj4OXsJQziu_",
        "colab_type": "text"
      },
      "source": [
        "Crie um algoritmo em Python que pergunte quanto você ganha por hora e o número de horas trabalhadas no mês. Calcule e mostre o total do seu salário no referido mês.\n"
      ]
    },
    {
      "cell_type": "code",
      "metadata": {
        "id": "RmApGpg30D00",
        "colab_type": "code",
        "outputId": "dd4780d0-335d-43aa-d587-13bc73a0a637",
        "colab": {
          "base_uri": "https://localhost:8080/",
          "height": 51
        }
      },
      "source": [
        "# INSIRA SEU CÓDIGO AQUI\n",
        "hora = float(input(\"Quanto você ganha por hora?: \"))\n",
        "\n",
        "salario = (hora * 8) * 30\n",
        "\n",
        "print(f'Meu salário é {salario}')"
      ],
      "execution_count": 0,
      "outputs": [
        {
          "output_type": "stream",
          "text": [
            "Quanto você ganha por hora?: 7\n",
            "Meu salário é 1680.0\n"
          ],
          "name": "stdout"
        }
      ]
    },
    {
      "cell_type": "code",
      "metadata": {
        "id": "yCsxCivjsyOx",
        "colab_type": "code",
        "outputId": "0d09269c-b930-4282-8696-b17fbd7022fe",
        "colab": {
          "base_uri": "https://localhost:8080/",
          "height": 51
        }
      },
      "source": [
        "# INSIRA SEU CÓDIGO AQUI\n",
        "hora = float(input(\"Quanto você ganha por hora?: \"))\n",
        "\n",
        "salario = (hora * 8) * 22\n",
        "\n",
        "print(f'Meu salário é {salario}')"
      ],
      "execution_count": 0,
      "outputs": [
        {
          "output_type": "stream",
          "text": [
            "Quanto você ganha por hora?: 6.8\n",
            "Meu salário é 1196.8\n"
          ],
          "name": "stdout"
        }
      ]
    },
    {
      "cell_type": "markdown",
      "metadata": {
        "id": "e7id8Ewgzlow",
        "colab_type": "text"
      },
      "source": [
        "Crie um algoritmo em Python que peça a temperatura em graus Farenheit, transforme e mostre a temperatura em graus Celsius.\n",
        "C = (5 * (F-32) / 9)."
      ]
    },
    {
      "cell_type": "code",
      "metadata": {
        "id": "Kl0ainsv0Eif",
        "colab_type": "code",
        "outputId": "0d3ea1f7-6627-46e6-db48-ef10fc54bc86",
        "colab": {
          "base_uri": "https://localhost:8080/",
          "height": 51
        }
      },
      "source": [
        "# INSIRA SEU CÓDIGO AQUI\n",
        "f = float(input(\"Digite a temperatura em Farenheit: \"))\n",
        "\n",
        "c = (f - 32) * 5 / 9\n",
        "\n",
        "print(f'A temperatura em graus Celsius é: {c}')"
      ],
      "execution_count": 0,
      "outputs": [
        {
          "output_type": "stream",
          "text": [
            "Digite a temperatura em Farenheit: 152\n",
            "A temperatura em graus Celsius é: 66.66666666666667\n"
          ],
          "name": "stdout"
        }
      ]
    },
    {
      "cell_type": "markdown",
      "metadata": {
        "id": "mFCgXRPaznno",
        "colab_type": "text"
      },
      "source": [
        "Crie um algoritmo em Python que peça a temperatura em graus Celsius, transforme e mostre em graus Farenheit."
      ]
    },
    {
      "cell_type": "code",
      "metadata": {
        "id": "xEAAHRi00FS8",
        "colab_type": "code",
        "outputId": "a0ca5827-8650-479e-8ffd-e7c5e8769b9a",
        "colab": {
          "base_uri": "https://localhost:8080/",
          "height": 51
        }
      },
      "source": [
        "# INSIRA SEU CÓDIGO AQUI\n",
        "c = float(input(\"Digite a temperatura em Celsius: \"))\n",
        "\n",
        "f = 9 * c / 5 + 32\n",
        "\n",
        "print(f\"A temperatura em graus Farenheit é: {f}\")"
      ],
      "execution_count": 0,
      "outputs": [
        {
          "output_type": "stream",
          "text": [
            "Digite a temperatura em Celsius: 70\n",
            "A temperatura em graus Farenheit é: 158.0\n"
          ],
          "name": "stdout"
        }
      ]
    },
    {
      "cell_type": "markdown",
      "metadata": {
        "id": "j3fdhu-8zqu9",
        "colab_type": "text"
      },
      "source": [
        "Crie um algoritmo em Python que peça 2 números inteiros e um número real. Calcule e mostre:\n",
        "* a soma do dobro do primeiro com metade do segundo .\n",
        "* a soma do triplo do primeiro com o terceiro.\n",
        "* o terceiro elevado ao cubo."
      ]
    },
    {
      "cell_type": "code",
      "metadata": {
        "id": "ZEqZrKjt0F5B",
        "colab_type": "code",
        "outputId": "c43780e9-bcdb-4f50-c6a5-53386f847e15",
        "colab": {
          "base_uri": "https://localhost:8080/",
          "height": 119
        }
      },
      "source": [
        "# INSIRA SEU CÓDIGO AQUI\n",
        "num1 = int(input(\"Digite um número: \"))\n",
        "num2 = int(input(\"Digite um número: \"))\n",
        "num3 = float(input(\"Digite um número Real: \"))\n",
        "\n",
        "resultado1 = num1*2*(num2/2)\n",
        "resultado2 = num1*3 + num3\n",
        "resultado3 = num3 **3\n",
        "\n",
        "print(f'A soma do dobro do primeiro com metade do segundo: {resultado1}')\n",
        "print(f'A soma do triplo do primeiro com o terceiro: {resultado2}')\n",
        "print(f'O terceiro elevado ao cubo: {resultado3}')\n"
      ],
      "execution_count": 0,
      "outputs": [
        {
          "output_type": "stream",
          "text": [
            "Digite um número: 52\n",
            "Digite um número: 63\n",
            "Digite um número Real: 23.2\n",
            "A soma do dobro do primeiro com metade do segundo: 3276.0\n",
            "A soma do triplo do primeiro com o terceiro: 179.2\n",
            "O terceiro elevado ao cubo: 12487.168\n"
          ],
          "name": "stdout"
        }
      ]
    },
    {
      "cell_type": "code",
      "metadata": {
        "id": "TFECdTsiN5aM",
        "colab_type": "code",
        "colab": {}
      },
      "source": [
        ""
      ],
      "execution_count": 0,
      "outputs": []
    }
  ]
}