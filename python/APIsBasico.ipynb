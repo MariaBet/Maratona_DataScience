{
 "cells": [
  {
   "cell_type": "markdown",
   "metadata": {
    "colab_type": "text",
    "id": "RNDx8IXexIET"
   },
   "source": [
    "## APIs\n",
    "Interface de Programação de Aplicação, é um conjunto de rotinas e padrões estabelecidos por um software para a utilização das suas funcionalidades por aplicativos que não pretendem envolver-se em detalhes da implementação do software, mas apenas usar seus serviços.\n"
   ]
  },
  {
   "cell_type": "code",
   "execution_count": 1,
   "metadata": {
    "colab": {},
    "colab_type": "code",
    "id": "WeYyyn7-xHSU"
   },
   "outputs": [
    {
     "name": "stdout",
     "output_type": "stream",
     "text": [
      "App WhatsApp vai liberar novidade para os usuários em breve - Metro Jornal\n",
      "Metro Jornal - 2020/05/07\n",
      "https://www.metrojornal.com.br/estilo-vida/2020/05/07/app-whatsapp-vai-liberar-novidade-para-os-usuarios-em-breve.html\n",
      "\n",
      "O que fazer se uma linha de celular for cadastrada em seu nome e com seu CPF sem autorização? - G1\n",
      "Blog também responde dúvidas sobre suposto vazamento de senhas do Zoom.\n",
      "https://g1.globo.com/economia/tecnologia/blog/altieres-rohr/post/2020/05/07/o-que-fazer-se-uma-linha-de-celular-for-cadastrada-em-seu-nome-e-com-seu-cpf-sem-autorizacao.ghtml\n",
      "\n",
      "Bolsonaro ignora segurança da informação ao usar WhatsApp em celular Samsung - Olhar Digital\n",
      "Presidente expôs conversas com o atual ex-ministro Sérgio Moro, deixando claro que não usa sistemas de comunicação especiais para tratar de temas de governo\n",
      "https://olhardigital.com.br/fique_seguro/noticia/bolsonaro-ignora-seguranca-da-informacao-ao-usar-whatsapp-em-celular-samsung/100396\n",
      "\n",
      "Mão de metal líquido do Exterminador do Futuro está pronta - Site Inovação Tecnológica\n",
      "\"Nosso sonho é construir um robô de treliça de metal líquido, e agora temos uma mão, então estamos um passo adiante.\"\n",
      "https://www.inovacaotecnologica.com.br/noticias/noticia.php?artigo=mao-metal-liquido-exterminador-futuro&id=010180200506\n",
      "\n",
      "Aplicativos como Spotify, Tiktok e até Tinder apresentam problemas e irritam internautas - Jornal Correio\n",
      "Usuários registram reclamações quanto à queda de vários serviços nos Estados Unidos, Brasil e em parte da Europa\n",
      "https://www.correio24horas.com.br/noticia/nid/aplicativos-como-spotify-tiktok-e-ate-tinder-apresentam-problemas-e-irritam-internautas/\n",
      "\n",
      "Com baixo movimento por coronavírus, Tinder vai permitir encontros em vídeo - Tilt\n",
      "A Match, empresa dona do Tinder, anunciou hoje que pretende permitir conversas de vídeo no aplicativo ainda em 2020.Os \"encontros em vídeo\" são uma resposta ao baixo movimento observado no aplicativo com a adoção de práticas de distanciamento social no mu\n",
      "https://www.uol.com.br/tilt/noticias/redacao/2020/05/06/com-baixo-movimento-por-coronavirus-tinder-vai-permitir-encontros-em-video.htm\n",
      "\n",
      "Samsung explica três fatores considerados fundamentais para a produtividade em notebook - Tudocelular.com\n",
      "Os pontos mencionados pela empresa consistem nos principais componentes presentes nesse tipo de máquina.\n",
      "https://www.tudocelular.com/curiosidade/noticias/n156112/samsung-explica-tres-fatores-fundamentais-notebook.html\n",
      "\n",
      "Intel Core i9-10900K aparece em teste de benchmark rodando a 5,4 GHz em todos os núcleos - Adrenaline\n",
      "Em teste realizado no Cinebench R15, processador fez uma pontuação próxima ao Ryzen 9 3900X\n",
      "https://adrenaline.com.br/noticias/v/63934/intel-core-i9-10900k-aparece-em-teste-de-benchmark-rodando-a-54-ghz-em-todos-os-nucleos\n",
      "\n",
      "WhatsApp libera nova versão beta do aplicativo de mensagens - Metro Jornal\n",
      "Metro Jornal - 2020/05/06\n",
      "https://www.metrojornal.com.br/estilo-vida/2020/05/06/whatsapp-libera-nova-versao-beta-aplicativo-de-mensagens-2.html\n",
      "\n",
      "Gadgets da Samsung que valem a pena investir - Tecmundo\n",
      "Carregador portátil, fechadura digital e power bank são alguns dos acessórios da marca sul-coreana que podem facilitar o seu dia a dia\n",
      "https://www.tecmundo.com.br/produto/152884-gadgets-samsung-valem-pena-investir.htm\n",
      "\n",
      "Como ativar e usar a Área Restrita do Windows 10 - Olhar Digital\n",
      "Função que vem desativada no Windows 10 permite instalar e testar programas com segurança no sistema. Confira como usá-la!\n",
      "https://olhardigital.com.br/dicas_e_tutoriais/noticia/como-ativar-e-usar-a-rea-restrita-do-windows-10/100386\n",
      "\n",
      "Observatório transmitirá hoje a superlua via streaming; assista - Olhar Digital\n",
      "Transmissão do observatório online Slooh será apresentada por um astrônomo, e começa às 20h (horário de Brasília)\n",
      "https://olhardigital.com.br/ciencia-e-espaco/noticia/observatorio-transmitira-hoje-a-superlua-via-streaming-assista/100385\n",
      "\n",
      "WhatsApp lança versão para o Dia das Mães da campanha 'Fica só entre vocês' - Tudocelular.com\n",
      "O filme é a sequência de uma série de conteúdos da empresa focados em exemplificar as vantagens do aplicativo.\n",
      "https://www.tudocelular.com/curiosidade/noticias/n156097/whatsapp-campanha-dia-das-mae.html\n",
      "\n",
      "Microsoft anuncia Surface Go 2, Surface Book 3 e novos fones de ouvido - Gizmodo Brasil\n",
      "Surface Go 2 tem tela um pouco maior e é interessante para quem quer gastar pouco. Surface Book 3 tem mais potência. Novos fones também chegam.\n",
      "https://gizmodo.uol.com.br/?p=353256/\n",
      "\n",
      "Câmera mais rápida do mundo tira 70 trilhões de fotos por segundo - Tecmundo\n",
      "Usando pulsos de laser ultrarrápidos, o dispositivo é capaz de capturar até as ondas de luz em movimento\n",
      "https://www.tecmundo.com.br/produto/152870-camera-rapida-mundo-tira-70-trilhoes-fotos-segundo.htm\n",
      "\n",
      "Governo de São Paulo lança aplicativo Poupatempo Digital - Olhar Digital\n",
      "App oferece serviços como segunda via da Carteira de Habilitação, atestado de antecedentes criminais e acesso ao seguro-desemprego\n",
      "https://olhardigital.com.br/coronavirus/noticia/governo-de-sao-paulo-lanca-aplicativo-poupatempo-digital/100384\n",
      "\n",
      "Hora dos intermediários! AnTuTu revela lista Top 10 chinês de abril com liderança da MediaTek - Tudocelular.com\n",
      "Liderança é garantida pela MediaTek e a HiSilicon, a empresa com mais aparelhos presentes\n",
      "https://www.tudocelular.com/curiosidade/noticias/n156096/antutu-top-10-intermediarios-china-abril-2020.html\n",
      "\n",
      "Anatel aprova uso de frequências do Wi-Fi 6E no Brasil - Tecnoblog\n",
      "Conselho da Anatel libera uso de frequência para Wi-Fi 6E; texto segue para avaliação da área técnica\n",
      "https://tecnoblog.net/337327/anatel-aprova-uso-de-frequencias-do-wi-fi-6e-no-brasil/\n",
      "\n",
      "Quartas versões beta do iOS 13.5, do iPadOS 13.5, do watchOS 6.2.5 e do tvOS 13.4.5 são liberadas [atualizado 2x] - MacMagazine\n",
      "Uma semana exata após liberar as terceiras versões beta dos seus novos sistemas operacionais, a Apple disponibilizou hoje as quartas versões beta do iOS/iPadOS 13.5 (compilação 17F5065a), do watchOS 6.2.5...\n",
      "https://macmagazine.uol.com.br/post/2020/05/06/quartas-versoes-beta-do-ios-13-5-do-ipados-13-5-do-watchos-6-2-5-e-do-tvos-13-4-5-sao-liberadas/\n",
      "\n",
      "Na mira da CVM, IQ Option não faz pagamentos e retém saques de clientes - Portal do Bitcoin\n",
      "Dados da plataforma Reclame Aqui apontam centenas de queixas de clientes brasileiros contra a corretora IQ Option, que está na mira da CVM\n",
      "https://portaldobitcoin.com/na-mira-da-cvm-iq-option-nao-faz-pagamentos-e-retem-saques-de-clientes/\n",
      "\n"
     ]
    }
   ],
   "source": [
    "# newsapi.org\n",
    "import json\n",
    "import requests\n",
    "\n",
    "try:\n",
    "  req = requests.get('https://newsapi.org/v2/top-headlines?country=br&category=technology&apiKey=be8e91e06d5b42ccbcb887ccbfb001f5')\n",
    "  noticias = json.loads(req.text)\n",
    "  for news in noticias['articles']:\n",
    "    titulo = news['title']\n",
    "    link = news['url']\n",
    "    desc = news['description']\n",
    "    mensagem = f'{titulo}\\n{desc}\\n{link}'\n",
    "    print(mensagem)\n",
    "    print()\n",
    "except Exception as e:\n",
    "  print(f\"Não desta vez! Erro encontrado: {e}\")"
   ]
  },
  {
   "cell_type": "code",
   "execution_count": null,
   "metadata": {},
   "outputs": [],
   "source": []
  }
 ],
 "metadata": {
  "colab": {
   "name": "APIsBasico.ipynb",
   "provenance": []
  },
  "kernelspec": {
   "display_name": "Python 3",
   "language": "python",
   "name": "python3"
  },
  "language_info": {
   "codemirror_mode": {
    "name": "ipython",
    "version": 3
   },
   "file_extension": ".py",
   "mimetype": "text/x-python",
   "name": "python",
   "nbconvert_exporter": "python",
   "pygments_lexer": "ipython3",
   "version": "3.7.6"
  }
 },
 "nbformat": 4,
 "nbformat_minor": 1
}
