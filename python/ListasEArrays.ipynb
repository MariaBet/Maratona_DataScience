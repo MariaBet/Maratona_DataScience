{
 "cells": [
  {
   "cell_type": "markdown",
   "metadata": {
    "colab_type": "text",
    "id": "MkeMvJ5qMEiX"
   },
   "source": [
    "# **Listas e Arrays**\n",
    "\n",
    "---\n",
    "\n"
   ]
  },
  {
   "cell_type": "code",
   "execution_count": 0,
   "metadata": {
    "colab": {},
    "colab_type": "code",
    "id": "9G1gxqu_Qpio"
   },
   "outputs": [],
   "source": [
    "livros = [\"Data Science em 12 Semanas\", \"Startup Enxuta\", \"Desperte seu Gigante Interior\"]\n",
    "print(type(livros))"
   ]
  },
  {
   "cell_type": "code",
   "execution_count": 0,
   "metadata": {
    "colab": {},
    "colab_type": "code",
    "id": "LsAICXmGO7FG"
   },
   "outputs": [],
   "source": [
    "# SLICING/FATIAMENTO\n",
    "print(livros[0])"
   ]
  },
  {
   "cell_type": "code",
   "execution_count": 0,
   "metadata": {
    "colab": {},
    "colab_type": "code",
    "id": "fVCEaRhGPZr7"
   },
   "outputs": [],
   "source": [
    "# Método append\n",
    "livros.append(\"Pé na Estrada\")\n",
    "print(livros)"
   ]
  },
  {
   "cell_type": "code",
   "execution_count": 0,
   "metadata": {
    "colab": {},
    "colab_type": "code",
    "id": "MfumLowwOczG"
   },
   "outputs": [],
   "source": [
    "# Função count() conta o número de aparições do elemento na lista\n",
    "x = [1,2,3,4,5,6,7,8,9,10,10,10]\n",
    "print(x.count(10))"
   ]
  },
  {
   "cell_type": "code",
   "execution_count": 0,
   "metadata": {
    "colab": {},
    "colab_type": "code",
    "id": "0ptMwQ39Ooqc"
   },
   "outputs": [],
   "source": [
    "# Função index() retorna o índice do elemento inserido\n",
    "x.index(5)"
   ]
  },
  {
   "cell_type": "code",
   "execution_count": 0,
   "metadata": {
    "colab": {},
    "colab_type": "code",
    "id": "X_UltUt5OrJy"
   },
   "outputs": [],
   "source": [
    "# Função len() retorna o comprimento do objeto\n",
    "print(len(x))"
   ]
  },
  {
   "cell_type": "code",
   "execution_count": 0,
   "metadata": {
    "colab": {},
    "colab_type": "code",
    "id": "vyWOZjZAOs0N"
   },
   "outputs": [],
   "source": [
    "# Função max() retorna o valor máximo da lista\n",
    "print(max(x))"
   ]
  },
  {
   "cell_type": "code",
   "execution_count": 0,
   "metadata": {
    "colab": {},
    "colab_type": "code",
    "id": "muNqmtj2Ot9H"
   },
   "outputs": [],
   "source": [
    "# Função min() retorna o valor mínimo na lista\n",
    "print(min(x))"
   ]
  },
  {
   "cell_type": "code",
   "execution_count": 0,
   "metadata": {
    "colab": {},
    "colab_type": "code",
    "id": "F7Insj0MPK9e"
   },
   "outputs": [],
   "source": [
    "# Função extend() extende a lista com novos valores adicionados\n",
    "x.extend([11])\n",
    "print(x)"
   ]
  },
  {
   "cell_type": "code",
   "execution_count": 0,
   "metadata": {
    "colab": {},
    "colab_type": "code",
    "id": "hBP2AKvUQFyO"
   },
   "outputs": [],
   "source": [
    "# Função remove() retira o elemento apresentado da lista\n",
    "x.remove(11)\n",
    "print(x)"
   ]
  },
  {
   "cell_type": "code",
   "execution_count": 0,
   "metadata": {
    "colab": {},
    "colab_type": "code",
    "id": "prNc3tEZNWcp"
   },
   "outputs": [],
   "source": [
    "# Alterando um Elemento da lista\n",
    "livros[3] = \"Data Science Para Leigos\"\n",
    "print(livros)"
   ]
  },
  {
   "cell_type": "code",
   "execution_count": 0,
   "metadata": {
    "colab": {},
    "colab_type": "code",
    "id": "qQMmMQZsNoaT"
   },
   "outputs": [],
   "source": [
    "# Removendo um elemento da lista\n",
    "print(f\"Antes de deletar temos: {livros}\")\n",
    "del livros[3]\n",
    "print(f\"Após deletar, temos: {livros}\")"
   ]
  },
  {
   "cell_type": "markdown",
   "metadata": {
    "colab_type": "text",
    "id": "lIguStXEEUpo"
   },
   "source": [
    "## **>>> Geralmente utilizamos a biblioteca numpy para lidar com arrays por conta da escassez built-in de python para tratamento de tal tipo.**"
   ]
  },
  {
   "cell_type": "code",
   "execution_count": 0,
   "metadata": {
    "colab": {},
    "colab_type": "code",
    "id": "XcmJZczfHPOv"
   },
   "outputs": [],
   "source": [
    "# Array armazena float/int em uma lista de valores\n",
    "inteiros = [1,2,3,4,5]\n",
    "print(inteiros)"
   ]
  },
  {
   "cell_type": "code",
   "execution_count": 0,
   "metadata": {
    "colab": {},
    "colab_type": "code",
    "id": "2xtUw300O1Q9"
   },
   "outputs": [],
   "source": [
    "# SLICING/FATIAMENTO\n",
    "print(inteiros[0])"
   ]
  },
  {
   "cell_type": "code",
   "execution_count": 5,
   "metadata": {
    "colab": {},
    "colab_type": "code",
    "id": "H5mY8cTyPkDf"
   },
   "outputs": [
    {
     "data": {
      "text/plain": [
       "['__add__',\n",
       " '__class__',\n",
       " '__contains__',\n",
       " '__delattr__',\n",
       " '__delitem__',\n",
       " '__dir__',\n",
       " '__doc__',\n",
       " '__eq__',\n",
       " '__format__',\n",
       " '__ge__',\n",
       " '__getattribute__',\n",
       " '__getitem__',\n",
       " '__gt__',\n",
       " '__hash__',\n",
       " '__iadd__',\n",
       " '__imul__',\n",
       " '__init__',\n",
       " '__init_subclass__',\n",
       " '__iter__',\n",
       " '__le__',\n",
       " '__len__',\n",
       " '__lt__',\n",
       " '__mul__',\n",
       " '__ne__',\n",
       " '__new__',\n",
       " '__reduce__',\n",
       " '__reduce_ex__',\n",
       " '__repr__',\n",
       " '__reversed__',\n",
       " '__rmul__',\n",
       " '__setattr__',\n",
       " '__setitem__',\n",
       " '__sizeof__',\n",
       " '__str__',\n",
       " '__subclasshook__',\n",
       " 'append',\n",
       " 'clear',\n",
       " 'copy',\n",
       " 'count',\n",
       " 'extend',\n",
       " 'index',\n",
       " 'insert',\n",
       " 'pop',\n",
       " 'remove',\n",
       " 'reverse',\n",
       " 'sort']"
      ]
     },
     "execution_count": 5,
     "metadata": {},
     "output_type": "execute_result"
    }
   ],
   "source": [
    "dir(list)"
   ]
  },
  {
   "cell_type": "code",
   "execution_count": 0,
   "metadata": {
    "colab": {},
    "colab_type": "code",
    "id": "nzwshOHpPo0z"
   },
   "outputs": [],
   "source": [
    "help(list)"
   ]
  },
  {
   "cell_type": "markdown",
   "metadata": {
    "colab_type": "text",
    "id": "zuNUy4n8R7K-"
   },
   "source": [
    "## **>>> Exercícios**\n",
    "\n",
    "---"
   ]
  },
  {
   "cell_type": "markdown",
   "metadata": {
    "colab_type": "text",
    "id": "KB6SkohbExw4"
   },
   "source": [
    "1.   Crie uma lista vazia. Receba de um input do usuário 3 números e os adicione em sua lista. Printe por fim sua lista; (fácil)"
   ]
  },
  {
   "cell_type": "code",
   "execution_count": 4,
   "metadata": {
    "colab": {},
    "colab_type": "code",
    "id": "s7GVU91gEx6l"
   },
   "outputs": [
    {
     "name": "stdout",
     "output_type": "stream",
     "text": [
      "Digite 1 número: 98\n",
      "Digite 2 número: 26\n",
      "Digite 3 número: 32\n",
      "[98, 26, 32]\n"
     ]
    }
   ],
   "source": [
    "# Insira seu código aqui\n",
    "lista = []\n",
    "\n",
    "a = int(input(\"Digite 1 número: \"))\n",
    "b = int(input(\"Digite 2 número: \"))\n",
    "c = int(input(\"Digite 3 número: \"))\n",
    "\n",
    "lista.append(a)\n",
    "lista.append(b)\n",
    "lista.append(c)\n",
    "print(lista)"
   ]
  },
  {
   "cell_type": "markdown",
   "metadata": {
    "colab_type": "text",
    "id": "8EYDvLp-EyD_"
   },
   "source": [
    "2.   Com a lista dos números, ordene-os com algum método listado em dir(list); (médio)"
   ]
  },
  {
   "cell_type": "code",
   "execution_count": 6,
   "metadata": {
    "colab": {},
    "colab_type": "code",
    "id": "_mxc4kd2EyLL"
   },
   "outputs": [
    {
     "name": "stdout",
     "output_type": "stream",
     "text": [
      "[1, 2, 3, 23, 52, 56, 74, 85, 98]\n"
     ]
    }
   ],
   "source": [
    "# Insira seu código aqui\n",
    "lista1 = [98, 52, 23, 85, 74, 1, 2, 3, 56]\n",
    "lista1.sort()\n",
    "print(lista1)"
   ]
  },
  {
   "cell_type": "markdown",
   "metadata": {
    "colab_type": "text",
    "id": "ic1M67gQEyTB"
   },
   "source": [
    "3.   Crie uma lista vazia. Receba do usuário, através de inputs, 3 palavras. Apresente-as em ordem alfabética inversa(de Z à A); (difícil)"
   ]
  },
  {
   "cell_type": "code",
   "execution_count": 10,
   "metadata": {
    "colab": {},
    "colab_type": "code",
    "id": "2mS-KFTZEybg"
   },
   "outputs": [
    {
     "name": "stdout",
     "output_type": "stream",
     "text": [
      "Digite um nome: Maria\n",
      "Digite um Estado do Brasil: Mato Grosso\n",
      "Digite uma Cidade do Brasil: Diamantina\n",
      "['Mato Grosso', 'Maria', 'Diamantina']\n"
     ]
    }
   ],
   "source": [
    "# Insira seu código aqui\n",
    "\n",
    "lista2 = []\n",
    "\n",
    "nome = input(\"Digite um nome: \")\n",
    "estado = input(\"Digite um Estado do Brasil: \")\n",
    "cidade = input(\"Digite uma Cidade do Brasil: \")\n",
    "\n",
    "lista2.append(nome)\n",
    "lista2.append(estado)\n",
    "lista2.append(cidade)\n",
    "\n",
    "lista2.sort(reverse=True)\n",
    "print(lista2)"
   ]
  },
  {
   "cell_type": "markdown",
   "metadata": {
    "colab_type": "text",
    "id": "IRqU0-HGEyk5"
   },
   "source": [
    "## **>>> Solução**"
   ]
  },
  {
   "cell_type": "code",
   "execution_count": 11,
   "metadata": {
    "colab": {},
    "colab_type": "code",
    "id": "aZbP_agrE4Sh"
   },
   "outputs": [
    {
     "name": "stdout",
     "output_type": "stream",
     "text": [
      "Digite um número inteiro: 63\n",
      "Outro número inteiro, por favor: 23\n",
      "Ok, este é o último: 23\n",
      "[63, 23, 23]\n"
     ]
    }
   ],
   "source": [
    "# Exercício 1\n",
    "x = []\n",
    "n1 = int(input(\"Digite um número inteiro: \"))\n",
    "x.append(n1)\n",
    "n2 = int(input(\"Outro número inteiro, por favor: \"))\n",
    "x.append(n2)\n",
    "n3 = int(input(\"Ok, este é o último: \"))\n",
    "x.append(n3)\n",
    "print(x)"
   ]
  },
  {
   "cell_type": "code",
   "execution_count": 12,
   "metadata": {
    "colab": {},
    "colab_type": "code",
    "id": "n__rOJ3aE4ex"
   },
   "outputs": [
    {
     "name": "stdout",
     "output_type": "stream",
     "text": [
      "Os números, em ordem crescente são: [23, 23, 63]\n"
     ]
    }
   ],
   "source": [
    "# Exercício 2\n",
    "print(f\"Os números, em ordem crescente são: {sorted(x)}\")"
   ]
  },
  {
   "cell_type": "code",
   "execution_count": 13,
   "metadata": {
    "colab": {},
    "colab_type": "code",
    "id": "fPJIuDJqE4qD"
   },
   "outputs": [
    {
     "name": "stdout",
     "output_type": "stream",
     "text": [
      "Qual seu nome? Maria\n",
      "Qual sua cor favorita? Mato Grosso\n",
      "Qual sua música favorita? Diamantina\n",
      "Mato Grosso\n",
      "Maria\n",
      "Diamantina\n"
     ]
    }
   ],
   "source": [
    "# Exercício 3\n",
    "y = []\n",
    "a1 = input(\"Qual seu nome? \")\n",
    "y.append(a1)\n",
    "a2 = input(\"Qual sua cor favorita? \")\n",
    "y.append(a2)\n",
    "a3 = input(\"Qual sua música favorita? \")\n",
    "y.append(a3)\n",
    "y = sorted(y)\n",
    "for elemento in reversed(y):\n",
    "  print(elemento)"
   ]
  },
  {
   "cell_type": "markdown",
   "metadata": {
    "colab_type": "text",
    "id": "jOLDB9C3Rtsq"
   },
   "source": [
    "# **Obrigado!**\n",
    "\n",
    "---\n"
   ]
  }
 ],
 "metadata": {
  "accelerator": "GPU",
  "colab": {
   "collapsed_sections": [],
   "name": "ListasEArrays.ipynb",
   "private_outputs": true,
   "provenance": []
  },
  "kernelspec": {
   "display_name": "Python 3",
   "language": "python",
   "name": "python3"
  },
  "language_info": {
   "codemirror_mode": {
    "name": "ipython",
    "version": 3
   },
   "file_extension": ".py",
   "mimetype": "text/x-python",
   "name": "python",
   "nbconvert_exporter": "python",
   "pygments_lexer": "ipython3",
   "version": "3.7.6"
  }
 },
 "nbformat": 4,
 "nbformat_minor": 1
}
