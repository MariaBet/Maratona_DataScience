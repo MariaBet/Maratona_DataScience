{
 "cells": [
  {
   "cell_type": "markdown",
   "metadata": {
    "colab_type": "text",
    "id": "RD4wsfKJ4hm6"
   },
   "source": [
    "# ***>>> Métodos e Funções***\n",
    "\n",
    "---\n",
    "\n",
    "\n",
    "Linguagens de programação orientada a objetos possuem objetos que representam coisas no mundo real e a interação destas coisas no mundo real se dá através dos métodos e funções"
   ]
  },
  {
   "cell_type": "markdown",
   "metadata": {
    "colab_type": "text",
    "id": "RFJUp158p7qc"
   },
   "source": [
    "# **>>> Funções**\n",
    "\n",
    "---\n",
    "Podem ter parâmetros ou não, podendo devolver, ou não, quaisquer dados pois funções não lidam com classes e conceitos de instâncias.\n"
   ]
  },
  {
   "cell_type": "code",
   "execution_count": 0,
   "metadata": {
    "colab": {},
    "colab_type": "code",
    "id": "M6fsnE_P1OAO"
   },
   "outputs": [],
   "source": [
    "# Estrutura básica de uma função\n",
    "def SuaFunção(a,b):\n",
    "  #insira aqui sua função"
   ]
  },
  {
   "cell_type": "code",
   "execution_count": 0,
   "metadata": {
    "colab": {},
    "colab_type": "code",
    "id": "gdinoTfh1VdS"
   },
   "outputs": [],
   "source": [
    "def Subtrair(a,b):\n",
    "  return a-b"
   ]
  },
  {
   "cell_type": "code",
   "execution_count": 0,
   "metadata": {
    "colab": {},
    "colab_type": "code",
    "id": "LMAIpoH01csI"
   },
   "outputs": [],
   "source": [
    "Subtrair(100,1)"
   ]
  },
  {
   "cell_type": "markdown",
   "metadata": {
    "colab_type": "text",
    "id": "Cowh2hIMpnZZ"
   },
   "source": [
    "# **>>> Métodos** \n",
    "Todo método é uma função...!\n",
    "\n",
    "---"
   ]
  },
  {
   "cell_type": "code",
   "execution_count": 0,
   "metadata": {
    "colab": {},
    "colab_type": "code",
    "id": "WNcmka4J0-ou"
   },
   "outputs": [],
   "source": [
    "# Estrutura básica de um método em python\n",
    "class SuaClasse:\n",
    "  def SeuMetodo(self):"
   ]
  },
  {
   "cell_type": "code",
   "execution_count": 0,
   "metadata": {
    "colab": {},
    "colab_type": "code",
    "id": "zk-jMCMoplHA"
   },
   "outputs": [],
   "source": [
    "# dir() retorna a lista de todos métodos/atributos do objeto solicitado\n",
    "x = \"OLÁ, EU SOU UMA STRING!\"\n",
    "print(dir(x))\n",
    "\n",
    "# ou dir(str), afinal, python sabe que x é uma variável do tipo string"
   ]
  },
  {
   "cell_type": "code",
   "execution_count": 0,
   "metadata": {
    "colab": {},
    "colab_type": "code",
    "id": "83dTzILqq2J6"
   },
   "outputs": [],
   "source": [
    "# Help + método retorna o conceito e aplicação do método inserido\n",
    "help(str.lower)"
   ]
  },
  {
   "cell_type": "code",
   "execution_count": 0,
   "metadata": {
    "colab": {},
    "colab_type": "code",
    "id": "b2sKNrGsrekG"
   },
   "outputs": [],
   "source": [
    "# Depois de listar os métodos com dir() e ler a documentação do mesmo com help() é hora de testar\n",
    "print(x.lower())"
   ]
  },
  {
   "cell_type": "markdown",
   "metadata": {
    "colab_type": "text",
    "id": "_ejYSAkd1ow3"
   },
   "source": [
    "# **>>> Funções Orientadas a Expressões**\n",
    "\n",
    "---\n",
    "\n",
    "Funções in-line, comumente usadas com map(), filter(), reduce(). Não são funções em bloco, mas sim funções curtas e escritas de formas simples."
   ]
  },
  {
   "cell_type": "markdown",
   "metadata": {
    "colab_type": "text",
    "id": "S2TDVngf1uyO"
   },
   "source": [
    "## **Lambda(função,sequência)**\n",
    "Cria função de forma rápida e anônima, sem o \"def\"..."
   ]
  },
  {
   "cell_type": "code",
   "execution_count": 0,
   "metadata": {
    "colab": {},
    "colab_type": "code",
    "id": "DEmOcWT81zF0"
   },
   "outputs": [],
   "source": [
    "raiz = lambda x: x**2\n",
    "print(raiz(2))"
   ]
  },
  {
   "cell_type": "markdown",
   "metadata": {
    "colab_type": "text",
    "id": "2WUaSkSn2cTh"
   },
   "source": [
    "## **Map(função,sequência)**\n",
    "Mapeia e aplica uma função a todos elementos da sequência"
   ]
  },
  {
   "cell_type": "code",
   "execution_count": 0,
   "metadata": {
    "colab": {},
    "colab_type": "code",
    "id": "P-8n8Bx02i45"
   },
   "outputs": [],
   "source": [
    "seq = [1,2,3,4,5]\n",
    "print(list(map(lambda x: x**2, seq)))"
   ]
  },
  {
   "cell_type": "markdown",
   "metadata": {
    "colab_type": "text",
    "id": "sPhXIkch2wo0"
   },
   "source": [
    "## **Reduce(função,sequência)**\n",
    "Aplica a sequência a uma função e reduz a um único valor final"
   ]
  },
  {
   "cell_type": "code",
   "execution_count": 0,
   "metadata": {
    "colab": {},
    "colab_type": "code",
    "id": "Lx3jjzQT25dT"
   },
   "outputs": [],
   "source": [
    "from functools import reduce\n",
    "reduce((lambda x,y:x*y), [1,2,3,4,5])"
   ]
  },
  {
   "cell_type": "markdown",
   "metadata": {
    "colab_type": "text",
    "id": "ahVx2Jyb3H4B"
   },
   "source": [
    "## **Filter**\n",
    "Filtra os elementos da sequência que retornarem True"
   ]
  },
  {
   "cell_type": "code",
   "execution_count": 0,
   "metadata": {
    "colab": {},
    "colab_type": "code",
    "id": "RskR9Iss3Ntg"
   },
   "outputs": [],
   "source": [
    "seq = range(-5,5)\n",
    "negativos = list(filter(lambda x: x<0, seq))\n",
    "print(negativos)"
   ]
  },
  {
   "cell_type": "markdown",
   "metadata": {
    "colab_type": "text",
    "id": "Vqsd0wc63lzF"
   },
   "source": [
    "## **List Comprehension**\n",
    "Performance mais alta que o FOR, desenvolve loops de repetição dentro de sequências"
   ]
  },
  {
   "cell_type": "code",
   "execution_count": 0,
   "metadata": {
    "colab": {},
    "colab_type": "code",
    "id": "dz768UAq3vhk"
   },
   "outputs": [],
   "source": [
    "mlt = [i for i in range(33) if i%3==0]\n",
    "print(mlt)"
   ]
  },
  {
   "cell_type": "markdown",
   "metadata": {
    "colab_type": "text",
    "id": "YHoQru-i8Wf3"
   },
   "source": [
    "## **Zip**\n",
    "Zipa 2 sequências retornando apenas uma com o numero de elementos da menor"
   ]
  },
  {
   "cell_type": "code",
   "execution_count": 0,
   "metadata": {
    "colab": {},
    "colab_type": "code",
    "id": "ZBN36jjM8lSj"
   },
   "outputs": [],
   "source": [
    "seq1 = [1,2,3]\n",
    "seq2 = ['um','dois','tres']\n",
    "zipados = list(zip(seq1,seq2))\n",
    "print(zipados)"
   ]
  },
  {
   "cell_type": "markdown",
   "metadata": {
    "colab_type": "text",
    "id": "uvUonsDK85rC"
   },
   "source": [
    "## **Enumerate**\n",
    "Numera os valores com o índice de cada valor"
   ]
  },
  {
   "cell_type": "code",
   "execution_count": 0,
   "metadata": {
    "colab": {},
    "colab_type": "code",
    "id": "_-TtCU068-kh"
   },
   "outputs": [],
   "source": [
    "seq = [1,2,3,4]\n",
    "for x in enumerate(seq):\n",
    "  print(x)"
   ]
  }
 ],
 "metadata": {
  "accelerator": "GPU",
  "colab": {
   "collapsed_sections": [],
   "name": "MétodoseFunções.ipynb",
   "private_outputs": true,
   "provenance": []
  },
  "kernelspec": {
   "display_name": "Python 3",
   "language": "python",
   "name": "python3"
  },
  "language_info": {
   "codemirror_mode": {
    "name": "ipython",
    "version": 3
   },
   "file_extension": ".py",
   "mimetype": "text/x-python",
   "name": "python",
   "nbconvert_exporter": "python",
   "pygments_lexer": "ipython3",
   "version": "3.7.6"
  }
 },
 "nbformat": 4,
 "nbformat_minor": 1
}
