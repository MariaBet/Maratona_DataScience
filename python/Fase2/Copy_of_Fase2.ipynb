{
  "nbformat": 4,
  "nbformat_minor": 0,
  "metadata": {
    "colab": {
      "name": "Copy of Fase2.ipynb",
      "provenance": [],
      "collapsed_sections": []
    },
    "kernelspec": {
      "name": "python3",
      "display_name": "Python 3"
    }
  },
  "cells": [
    {
      "cell_type": "markdown",
      "metadata": {
        "id": "CYNAmoj4zSXl",
        "colab_type": "text"
      },
      "source": [
        "Crie um algoritmo em Python que peça 2 números e imprima o maior deles."
      ]
    },
    {
      "cell_type": "code",
      "metadata": {
        "id": "ViAfpy3GzPN-",
        "colab_type": "code",
        "outputId": "7f5e090f-92ee-4b7a-c7b0-a46a077ac4e7",
        "colab": {
          "base_uri": "https://localhost:8080/",
          "height": 68
        }
      },
      "source": [
        "# INSIRA SEU CÓDIGO AQUI\n",
        "\n",
        "num1 = int(input(\"Digite um numero: \"))\n",
        "num2 = int(input(\"Digite um numero: \"))\n",
        "\n",
        "if num1 > num2:\n",
        "    maior = num1\n",
        "if num2 > num1:\n",
        "    maior = num2\n",
        "\n",
        "print(f\"O número maior é : {maior}\")\n"
      ],
      "execution_count": 0,
      "outputs": [
        {
          "output_type": "stream",
          "text": [
            "Digite um numero: 63\n",
            "Digite um numero: 96\n",
            "O número maior é : 96\n"
          ],
          "name": "stdout"
        }
      ]
    },
    {
      "cell_type": "markdown",
      "metadata": {
        "id": "gdMis92izSmQ",
        "colab_type": "text"
      },
      "source": [
        "Crie um algoritmo em Python que peça um valor e mostre na tela se o valor é positivo ou negativo."
      ]
    },
    {
      "cell_type": "code",
      "metadata": {
        "id": "BFpWkdCBz_zh",
        "colab_type": "code",
        "outputId": "60236c24-68ee-4756-bc29-698378d5406f",
        "colab": {
          "base_uri": "https://localhost:8080/",
          "height": 51
        }
      },
      "source": [
        "# INSIRA SEU CÓDIGO AQUI\n",
        "\n",
        "numero = int(input(\"Digite um número: \"))\n",
        "\n",
        "if numero > 0:\n",
        "    print(f\"Esse número {numero} é Positivo!\")\n",
        "\n",
        "else:\n",
        "    print(f'Esse número {numero} é Negativo!')"
      ],
      "execution_count": 0,
      "outputs": [
        {
          "output_type": "stream",
          "text": [
            "Digite um número: -1\n",
            "Esse número -1 é Negativo!\n"
          ],
          "name": "stdout"
        }
      ]
    },
    {
      "cell_type": "markdown",
      "metadata": {
        "id": "E_0l_Vx6zSo2",
        "colab_type": "text"
      },
      "source": [
        "Crie um algoritmo em Python que verifique se uma letra digitada é vogal ou consoante."
      ]
    },
    {
      "cell_type": "code",
      "metadata": {
        "id": "KwJf7XZS0AZW",
        "colab_type": "code",
        "outputId": "db650574-d68e-4c9e-dd76-a797e179e81c",
        "colab": {
          "base_uri": "https://localhost:8080/",
          "height": 51
        }
      },
      "source": [
        "# INSIRA SEU CÓDIGO AQUI\n",
        "l = str(input('Digite uma letra: ').lower())\n",
        "\n",
        "if l == 'a' or l == 'e' or l == 'i' or l == 'o' or l == 'u':\n",
        "    print(f'A letra {l} é vogal')\n",
        "else:\n",
        "    print(f'A letra {l} é consoante')\n"
      ],
      "execution_count": 0,
      "outputs": [
        {
          "output_type": "stream",
          "text": [
            "Digite uma letra: b\n",
            "A letra b é consoante\n"
          ],
          "name": "stdout"
        }
      ]
    },
    {
      "cell_type": "markdown",
      "metadata": {
        "id": "1i4VCiiczSrL",
        "colab_type": "text"
      },
      "source": [
        "Faça um programa para a leitura de duas notas parciais de um aluno. O programa deve calcular a média alcançada por aluno e apresentar:\n",
        "* \"Aprovado\", se a média alcançada for maior ou igual a sete;\n",
        "* \"Reprovado\", se a média for menor do que sete;\n",
        "* \"Aprovado com Distinção\", se a média for igual a 10."
      ]
    },
    {
      "cell_type": "code",
      "metadata": {
        "id": "yoW67hjA0BHy",
        "colab_type": "code",
        "outputId": "f0db1661-71ac-4708-d3d4-347d1cbbc425",
        "colab": {
          "base_uri": "https://localhost:8080/",
          "height": 68
        }
      },
      "source": [
        "# INSIRA SEU CÓDIGO AQUI\n",
        "nota1 = float(input(\"Digite uma nota: \"))\n",
        "nota2 = float(input(\"Digite uma segunda nota: \"))\n",
        "\n",
        "media = (nota1 + nota2) / 2\n",
        "\n",
        "if media >= 7:\n",
        "    print(\"Aprovado Resultado\")\n",
        "\n",
        "if media >= 10:\n",
        "    print(\"Aprovado com Distinção\")\n",
        "\n",
        "if media <= 7:\n",
        "    print(\"Reprovado\")"
      ],
      "execution_count": 0,
      "outputs": [
        {
          "output_type": "stream",
          "text": [
            "Digite uma nota: 3\n",
            "Digite uma segunda nota: 2\n",
            "Reprovado\n"
          ],
          "name": "stdout"
        }
      ]
    },
    {
      "cell_type": "markdown",
      "metadata": {
        "id": "4ep7kezvzStO",
        "colab_type": "text"
      },
      "source": [
        "Crie um algoritmo em Python que leia três números e mostre o maior deles."
      ]
    },
    {
      "cell_type": "code",
      "metadata": {
        "id": "6K6IHWdr0Blt",
        "colab_type": "code",
        "outputId": "e2218b63-d907-4173-bcd0-43c48449ce2d",
        "colab": {
          "base_uri": "https://localhost:8080/",
          "height": 85
        }
      },
      "source": [
        "# INSIRA SEU CÓDIGO AQUI\n",
        "num1 = int(input(\"Digite um numero: \"))\n",
        "num2 = int(input(\"Digite um numero: \"))\n",
        "num3 = int(input(\"Digite um numero: \"))\n",
        "\n",
        "if num1 > num2 > num3:\n",
        "    maior = num1\n",
        "if num2 > num1 > num3:\n",
        "    maior = num2\n",
        "if num3 > num1 > num2:\n",
        "    maior = num3\n",
        "\n",
        "print(f\"O número maior é : {maior}\")"
      ],
      "execution_count": 0,
      "outputs": [
        {
          "output_type": "stream",
          "text": [
            "Digite um numero: 23\n",
            "Digite um numero: 56\n",
            "Digite um numero: 96\n",
            "O número maior é : 96\n"
          ],
          "name": "stdout"
        }
      ]
    },
    {
      "cell_type": "markdown",
      "metadata": {
        "id": "u6__NaXqzeYg",
        "colab_type": "text"
      },
      "source": [
        "Crie um algoritmo em Python que leia três números e mostre o maior e o menor deles."
      ]
    },
    {
      "cell_type": "code",
      "metadata": {
        "id": "mm2L7g3x0Cfx",
        "colab_type": "code",
        "outputId": "ac9bf011-b7ce-47c9-f4cb-75829fc1dee3",
        "colab": {
          "base_uri": "https://localhost:8080/",
          "height": 85
        }
      },
      "source": [
        "# INSIRA SEU CÓDIGO AQUI\n",
        "num1 = int(input(\"Digite um numero: \"))\n",
        "num2 = int(input(\"Digite um numero: \"))\n",
        "num3 = int(input(\"Digite um numero: \"))\n",
        "\n",
        "if num1 > num2 > num3:\n",
        "    maior = num1\n",
        "if num2 > num1 > num3:\n",
        "    maior = num2\n",
        "if num3 > num1 > num2:\n",
        "    maior = num3\n",
        "\n",
        "if num1 < num2 < num3:\n",
        "    menor = num1\n",
        "if num2 < num1 < num3:\n",
        "    menor = num2\n",
        "if num3 < num1 < num2:\n",
        "    menor = num3\n",
        "print(f\"O número maior é : {maior} e o número menor é {menor}\")"
      ],
      "execution_count": 0,
      "outputs": [
        {
          "output_type": "stream",
          "text": [
            "Digite um numero: 23\n",
            "Digite um numero: 96\n",
            "Digite um numero: 2\n",
            "O número maior é : 96 e o número menor é 2\n"
          ],
          "name": "stdout"
        }
      ]
    },
    {
      "cell_type": "markdown",
      "metadata": {
        "id": "lIlfG-ATzgOr",
        "colab_type": "text"
      },
      "source": [
        "63\n",
        "96\n",
        "Faça um programa que pergunte o preço de 5 produtos e informe qual produto você deve comprar, sabendo que a decisão é sempre pelo mais barato."
      ]
    },
    {
      "cell_type": "code",
      "metadata": {
        "id": "-y4pB6br0DD_",
        "colab_type": "code",
        "outputId": "e90ea3ad-57f0-4f1f-e5f7-ed0509e39824",
        "colab": {
          "base_uri": "https://localhost:8080/",
          "height": 136
        }
      },
      "source": [
        "# INSIRA SEU CÓDIGO AQUI\n",
        "\n",
        "p1 = input(\"Digite o preço 1º produto: \")\n",
        "p2 = input(\"Digite o preço 2º produto: \")\n",
        "p3 = input(\"Digite o preço 3 produto: \")\n",
        "p4 = input(\"Digite o preço 4º produto: \")\n",
        "p5 = input(\"Digite o preço 5º produto: \")\n",
        "\n",
        "if p1 < p2 and p3 and p4 and p5:\n",
        "    menor = p1\n",
        "    print(f'O produto 1 de {p1} reais é o mais barato!!')\n",
        "if p2 < p1 and p3 and p4 and p5:\n",
        "    menor = p2\n",
        "    print(f'O produto 2 de {p2} reais é o mais barato!!')\n",
        "if p3 < p2 and p1 and p4 and p5:\n",
        "    menor = p3\n",
        "    print(f'O produto 2 de {p3} reais é o mais barato!!')\n",
        "if p4 < p3 and p2 and p1 and p5:\n",
        "    menor = p4\n",
        "    print(f'O produto 4 de {p4} reais é o mais barato!!')\n",
        "if p5 < p4 and p3 and p2 and p1:\n",
        "    menor = p5\n",
        "    print(f'O produto 4 de {p4} reais é o mais barato!!')\n"
      ],
      "execution_count": 0,
      "outputs": [
        {
          "output_type": "stream",
          "text": [
            "Digite o preço 1º produto: 23\n",
            "Digite o preço 2º produto: 5\n",
            "Digite o preço 3 produto: 6\n",
            "Digite o preço 4º produto: 1\n",
            "Digite o preço 5º produto: 2\n",
            "O produto 1 de 23 reais é o mais barato!!\n",
            "O produto 4 de 1 reais é o mais barato!!\n"
          ],
          "name": "stdout"
        }
      ]
    },
    {
      "cell_type": "code",
      "metadata": {
        "id": "_ItX69haECUV",
        "colab_type": "code",
        "outputId": "496ed61e-6338-4c94-af8a-a4785ac2e345",
        "colab": {
          "base_uri": "https://localhost:8080/",
          "height": 85
        }
      },
      "source": [
        "p1 = input(\"Digite o 1° preço: \")\n",
        "p2 = input(\"Digite o 2° preço: \")\n",
        "p3 = input(\"Digite o 3° preço: \")\n",
        "\n",
        "if p1 < p2 and p3 and p1:\n",
        "    print('O produto 1 é o mais barato!!')\n",
        "elif p2 < p1 and p3:\n",
        "    print('O produto 2 é o mais barato!!')\n",
        "elif p3 < p1 and p2:\n",
        "    print('O produto 3 é o mais barato!!')\n",
        "    \n",
        "elif p1 == p2 and p1 and p2 < p3:\n",
        "    print('O produto 1 e 2 são os mais baratos!!')\n",
        "elif p1 == p3 and p1 and p3 < p2:\n",
        "    print('O produto 1 e 3 são os mais baratos!!')\n",
        "elif p2 == p3 and p2 and p3 < p1:\n",
        "    print('O produto 1 e 2 são os mais baratos!!')"
      ],
      "execution_count": 0,
      "outputs": [
        {
          "output_type": "stream",
          "text": [
            "Digite o 1° preço: 52\n",
            "Digite o 2° preço: 23\n",
            "Digite o 3° preço: 56\n",
            "O produto 2 é o mais barato!!\n"
          ],
          "name": "stdout"
        }
      ]
    },
    {
      "cell_type": "markdown",
      "metadata": {
        "id": "Vj4OXsJQziu_",
        "colab_type": "text"
      },
      "source": [
        "Crie um algoritmo em Python que leia três números e mostre-os em ordem decrescente."
      ]
    },
    {
      "cell_type": "code",
      "metadata": {
        "id": "RmApGpg30D00",
        "colab_type": "code",
        "colab": {}
      },
      "source": [
        "# INSIRA SEU CÓDIGO AQUI"
      ],
      "execution_count": 0,
      "outputs": []
    },
    {
      "cell_type": "markdown",
      "metadata": {
        "id": "e7id8Ewgzlow",
        "colab_type": "text"
      },
      "source": [
        "As Organizações Mendéz resolveram dar um aumento de salário aos seus colaboradores e lhe contraram para desenvolver o programa que calculará os reajustes em Python. Faça um programa que receba o salário de um colaborador e o reajuste segundo o seguinte critério, baseado no salário atual:\n",
        "\n",
        "* salários entre 680,00 e 800,00 : aumento de 15%<br>\n",
        "* salários entre 800,00 e 2500,00 : aumento de 10%<br>\n",
        "* salários de 2500,00 em diante : aumento de 5% após o aumento ser realizado.\n",
        "\n",
        "Informe na tela:\n",
        "* o salário antes do reajuste;\n",
        "* o percentual de aumento aplicado;\n",
        "* o valor do aumento;\n",
        "* o novo salário, após o aumento."
      ]
    },
    {
      "cell_type": "code",
      "metadata": {
        "id": "Kl0ainsv0Eif",
        "colab_type": "code",
        "outputId": "c97c0a80-0491-4b35-9af7-a0fd239413e7",
        "colab": {
          "base_uri": "https://localhost:8080/",
          "height": 204
        }
      },
      "source": [
        "# INSIRA SEU CÓDIGO AQUI\n",
        "\n",
        "salario = float(input(\"Digite  valor do sálario: \"))\n",
        "\n",
        "print('''Selecione o valor do reajuste:\n",
        "        salários entre 680,00 e 800,00 : aumento de 15%\n",
        "        salários entre 800,00 e 2500,00 : aumento de 10%\n",
        "        salários de 2500,00 em diante : aumento de 5% após o aumento ser realizado.\n",
        "\t    \\n''')\n",
        "\n",
        "\n",
        "if salario <= 800:\n",
        "    percentual = 15\n",
        "\n",
        "if salario <= 2500:\n",
        "    percentual = 10\n",
        "else:\n",
        "    percentual = 5\n",
        "\n",
        "percentual = percentual / 100.0\n",
        "aumento = percentual * salario\n",
        "novo_salario = salario + aumento\n",
        "\n",
        "\n",
        "\n",
        "\n",
        "print(f\"o salário antes do reajuste: {salario}\")\n",
        "print(f\"Percentual de aumento aplicado: {percentual}\", '%')\n",
        "print(f'O valor do aumento é: {aumento}')\n",
        "print(f\"O valor do novo aumento do salário é: {novo_salario}\")\n",
        "\n",
        "\n",
        "\n"
      ],
      "execution_count": 0,
      "outputs": [
        {
          "output_type": "stream",
          "text": [
            "Digite  valor do sálario: 3000\n",
            "Selecione o valor do reajuste:\n",
            "        salários entre 680,00 e 800,00 : aumento de 15%\n",
            "        salários entre 800,00 e 2500,00 : aumento de 10%\n",
            "        salários de 2500,00 em diante : aumento de 5% após o aumento ser realizado.\n",
            "\t    \n",
            "\n",
            "o salário antes do reajuste: 3000.0\n",
            "Percentual de aumento aplicado: 0.05 %\n",
            "O valor do aumento é: 150.0\n",
            "O valor do novo aumento do salário é: 3150.0\n"
          ],
          "name": "stdout"
        }
      ]
    },
    {
      "cell_type": "code",
      "metadata": {
        "id": "qBl_oOHnGElB",
        "colab_type": "code",
        "colab": {}
      },
      "source": [
        ""
      ],
      "execution_count": 0,
      "outputs": []
    }
  ]
}