{
 "cells": [
  {
   "cell_type": "markdown",
   "metadata": {
    "colab_type": "text",
    "id": "7PdWV0i6CtWM"
   },
   "source": [
    "# **>>> WHILE**\n",
    "\n",
    "---\n",
    "\n"
   ]
  },
  {
   "cell_type": "code",
   "execution_count": 1,
   "metadata": {
    "colab": {},
    "colab_type": "code",
    "id": "cTBTYY_8CXhe"
   },
   "outputs": [
    {
     "name": "stdout",
     "output_type": "stream",
     "text": [
      "0\n",
      "1\n",
      "2\n",
      "3\n",
      "4\n",
      "5\n",
      "6\n",
      "7\n",
      "8\n",
      "9\n",
      "10\n"
     ]
    }
   ],
   "source": [
    "# while\n",
    "# ENQUANTO A DECLARAÇÃO FOR True, O BLOCO SERÁ EXECUTADO \n",
    "\n",
    "n = 0\n",
    "while n <= 10:\n",
    "  print(n)\n",
    "  n = n+1  # n += 1"
   ]
  },
  {
   "cell_type": "code",
   "execution_count": null,
   "metadata": {
    "colab": {},
    "colab_type": "code",
    "id": "OI3qE_yZEnGX"
   },
   "outputs": [],
   "source": [
    "# +=, -=, *=, /= ...\n",
    "n = 0\n",
    "while n <= 10:\n",
    "  print(n)\n",
    "  n += 1 \n",
    "  "
   ]
  },
  {
   "cell_type": "code",
   "execution_count": null,
   "metadata": {
    "colab": {},
    "colab_type": "code",
    "id": "aMGNM38tFTHO"
   },
   "outputs": [],
   "source": [
    "# while True realiza o código por tempo indeterminado: cuidado!\n",
    "while True:\n",
    "  print(0)"
   ]
  },
  {
   "cell_type": "markdown",
   "metadata": {
    "colab_type": "text",
    "id": "7OSp0N6TGDec"
   },
   "source": [
    "## **O break**\n",
    "\n",
    "---\n",
    "\n"
   ]
  },
  {
   "cell_type": "code",
   "execution_count": 0,
   "metadata": {
    "colab": {},
    "colab_type": "code",
    "id": "FrVu2LtyFmdA"
   },
   "outputs": [],
   "source": [
    "# Com a instrução break podemos parar o loop mesmo se a condição while for verdadeira\n",
    "n = 0\n",
    "while n <= 10:\n",
    "  print(n)\n",
    "  if n == 3:\n",
    "    break\n",
    "  n = n+1 "
   ]
  },
  {
   "cell_type": "markdown",
   "metadata": {
    "colab_type": "text",
    "id": "yPkF9gibHqEM"
   },
   "source": [
    "## **O continue**\n",
    "\n",
    "---\n",
    "\n"
   ]
  },
  {
   "cell_type": "code",
   "execution_count": 0,
   "metadata": {
    "colab": {},
    "colab_type": "code",
    "id": "qDXAMqfNHsYg"
   },
   "outputs": [],
   "source": [
    "# Com a instrução continue podemos continuar a próxima iteração de forma ilimitada: cuidado!\n",
    "n = 0\n",
    "while n <= 10:\n",
    "  print(n)\n",
    "  if n == 3:\n",
    "    continue\n",
    "  n = n+1 "
   ]
  },
  {
   "cell_type": "markdown",
   "metadata": {
    "colab_type": "text",
    "id": "Jn_meIMDIeoS"
   },
   "source": [
    "# **>>> FOR**\n",
    "\n",
    "---\n",
    "\n"
   ]
  },
  {
   "cell_type": "code",
   "execution_count": 0,
   "metadata": {
    "colab": {},
    "colab_type": "code",
    "id": "AxB6CIZ1IxDT"
   },
   "outputs": [],
   "source": [
    "# ITERAÇÃO ATRAVÉS DE SEQUÊNCIAS (lista, tupla, dicionario, set, string)\n",
    "\n",
    "pessoas = ['Ana', 'Maria', 'Alita']\n",
    "for pessoa in pessoas:\n",
    "  print(pessoa)"
   ]
  },
  {
   "cell_type": "code",
   "execution_count": 0,
   "metadata": {
    "colab": {},
    "colab_type": "code",
    "id": "7pnH_cH_JU9h"
   },
   "outputs": [],
   "source": [
    "# ITERAÇÃO EM STRINGS\n",
    "\n",
    "x = \"Alita\"\n",
    "for letra in x:\n",
    "  print(letra)"
   ]
  },
  {
   "cell_type": "code",
   "execution_count": 0,
   "metadata": {
    "colab": {},
    "colab_type": "code",
    "id": "r664bMbRJdx1"
   },
   "outputs": [],
   "source": [
    "# ITERAÇÃO RANGE\n",
    "for x in range(10):\n",
    "  print(x)"
   ]
  },
  {
   "cell_type": "code",
   "execution_count": 0,
   "metadata": {
    "colab": {},
    "colab_type": "code",
    "id": "I0_PeAorJxNH"
   },
   "outputs": [],
   "source": [
    "# TAMBÉM PODE RECEBER \"INICIO,FIM,PASSO\"\n",
    "for x in range(0,100,2):\n",
    "  print(x)"
   ]
  },
  {
   "cell_type": "code",
   "execution_count": 0,
   "metadata": {
    "colab": {},
    "colab_type": "code",
    "id": "l67hQh3yKNCa"
   },
   "outputs": [],
   "source": [
    "# PODERÁ RECEBER ELSE\n",
    "for x in range(10):\n",
    "  print(x)\n",
    "else:\n",
    "  print(\"fim!\")"
   ]
  },
  {
   "cell_type": "code",
   "execution_count": 0,
   "metadata": {
    "colab": {},
    "colab_type": "code",
    "id": "7wzy9Oj8KWQm"
   },
   "outputs": [],
   "source": [
    "# PODERÁ RECEBER break \n",
    "for x in range(10):\n",
    "  print(x)\n",
    "  if x == 5:\n",
    "    print(\"fim!\")\n",
    "    break"
   ]
  },
  {
   "cell_type": "code",
   "execution_count": 0,
   "metadata": {
    "colab": {},
    "colab_type": "code",
    "id": "IWbBKD1YKk2Q"
   },
   "outputs": [],
   "source": [
    "# E continue\n",
    "for x in range(10):\n",
    "  print(x)\n",
    "  if x == 5:\n",
    "    print(\"fim!\")\n",
    "    continue"
   ]
  },
  {
   "cell_type": "code",
   "execution_count": 0,
   "metadata": {
    "colab": {},
    "colab_type": "code",
    "id": "HSNWMZpXK8rB"
   },
   "outputs": [],
   "source": [
    "# Loops Aninhados\n",
    "a = ['verde', 'roxa', 'amarela']\n",
    "b = ['maçã', 'uva', 'banana']\n",
    "\n",
    "for x in a:\n",
    "  for y in b:\n",
    "    print(x,y)"
   ]
  },
  {
   "cell_type": "markdown",
   "metadata": {
    "colab_type": "text",
    "id": "o0IWfvf1La6B"
   },
   "source": [
    "# **>>> Exercícios**\n",
    "\n",
    "---\n",
    "\n"
   ]
  },
  {
   "cell_type": "markdown",
   "metadata": {
    "colab_type": "text",
    "id": "eZlUhXLEPH7Z"
   },
   "source": [
    "1.   Crie um algoritmo que solicite ao usuário 3 números e printe na tela a média destes (fácil)\n",
    "\n"
   ]
  },
  {
   "cell_type": "code",
   "execution_count": null,
   "metadata": {
    "colab": {},
    "colab_type": "code",
    "id": "KK9OYfibPJWI"
   },
   "outputs": [],
   "source": [
    "# Insira seu código aqui\n",
    "\n",
    "\n",
    "\n"
   ]
  },
  {
   "cell_type": "code",
   "execution_count": 1,
   "metadata": {},
   "outputs": [
    {
     "name": "stdout",
     "output_type": "stream",
     "text": [
      "Digite um número: 52\n",
      "Digite o segundo número: 23\n",
      "Digite o terceiro: 96\n",
      "Á média dos nuḿeros digitados 52, 23, 96, é: 57.0\n"
     ]
    }
   ],
   "source": [
    "num1 = int(input(\"Digite um número: \"))\n",
    "num2 = int(input(\"Digite o segundo número: \"))\n",
    "num3 = int(input(\"Digite o terceiro: \"))\n",
    "\n",
    "media = (num1 + num2 + num3) / 3\n",
    "\n",
    "print(f'Á média dos nuḿeros digitados {num1}, {num2}, {num3}, é: {media}')"
   ]
  },
  {
   "cell_type": "markdown",
   "metadata": {
    "colab_type": "text",
    "id": "cnqs83g0PJ7e"
   },
   "source": [
    "2.   Crie um algoritmo que solicite ao usuário um número e apresente o fatorial deste número como resultado (médio)\n",
    "[Clique aqui para saber como calcular o fatorial.](https://pt.wikipedia.org/wiki/Fatorial)\n"
   ]
  },
  {
   "cell_type": "code",
   "execution_count": 7,
   "metadata": {
    "colab": {},
    "colab_type": "code",
    "id": "GsRfmt9YPLHx"
   },
   "outputs": [
    {
     "name": "stdout",
     "output_type": "stream",
     "text": [
      "Digite um número: 56\n",
      "710998587804863451854045647463724949736497978881168458687447040000000000000\n"
     ]
    }
   ],
   "source": [
    "# Insira seu código aqui\n",
    "numero = int(input(\"Digite um número: \"))\n",
    "\n",
    "resultado=1\n",
    "count=1\n",
    "\n",
    "while count <= numero:\n",
    "    resultado *= count\n",
    "    count += 1\n",
    "\n",
    "print(resultado)\n"
   ]
  },
  {
   "cell_type": "markdown",
   "metadata": {
    "colab_type": "text",
    "id": "wswmdW3OPLuE"
   },
   "source": [
    "3.   Crie um algoritmo que solicite 5 números. Ao término, printar o maior e o menor número (difícil)"
   ]
  },
  {
   "cell_type": "code",
   "execution_count": 0,
   "metadata": {
    "colab": {},
    "colab_type": "code",
    "id": "4Eo0PEsoPMgT"
   },
   "outputs": [],
   "source": [
    "# Insira seu código aqui\n",
    "num1 = int(input(\"Digite um número: \"))\n",
    "num2 = int(input(\"Digite o segundo número: \"))\n",
    "num3 = int(input(\"Digite o terceiro: \"))\n",
    "num4 = int(input(\"Digite um número: \"))\n",
    "num5 = int(input(\"Digite o segundo número: \"))\n",
    "\n",
    "\n"
   ]
  },
  {
   "cell_type": "code",
   "execution_count": 13,
   "metadata": {},
   "outputs": [
    {
     "name": "stdout",
     "output_type": "stream",
     "text": [
      "Digite 5 numeros: 56\n",
      "Digite 5 numeros: 23\n",
      "Digite 5 numeros: 2\n",
      "Digite 5 numeros: 36\n",
      "Digite 5 numeros: 54\n",
      "Maior numero:  56 Menor número:  2\n"
     ]
    }
   ],
   "source": [
    "\n",
    "lista = []\n",
    "while len(lista) < 5:\n",
    "    lista.append(int(input(\"Será necessário digitar 5 números: \")))\n",
    "    \n",
    "print(\"Maior numero é o: \", max(lista), \"Menor número é o: \", min(lista))\n",
    "\n"
   ]
  },
  {
   "cell_type": "markdown",
   "metadata": {
    "colab_type": "text",
    "id": "FLFjxhlJPNFq"
   },
   "source": [
    "## **>>> Solução**\n",
    "\n",
    "---\n",
    "\n"
   ]
  },
  {
   "cell_type": "code",
   "execution_count": 14,
   "metadata": {
    "colab": {},
    "colab_type": "code",
    "id": "V00cBHIOPSb9"
   },
   "outputs": [
    {
     "name": "stdout",
     "output_type": "stream",
     "text": [
      "Digite a 1º nota: 52\n",
      "Digite a 2º nota: 23\n",
      "Digite a 3º nota: 96\n",
      "A média destes números é de 57.00\n"
     ]
    }
   ],
   "source": [
    "# Exercício 1\n",
    "for x in range(1,2):\n",
    "  a = int(input(f\"Digite a 1º nota: \"))\n",
    "  b = int(input(f\"Digite a 2º nota: \"))\n",
    "  c = int(input(f\"Digite a 3º nota: \"))\n",
    "d = a+b+c\n",
    "print(f\"A média destes números é de {d/3:.2f}\")"
   ]
  },
  {
   "cell_type": "code",
   "execution_count": 17,
   "metadata": {
    "colab": {},
    "colab_type": "code",
    "id": "yq0BTImaPSs7"
   },
   "outputs": [
    {
     "name": "stdout",
     "output_type": "stream",
     "text": [
      "Digite um número inteiro: 56\n",
      "O fatorial de 56 é 710998587804863451854045647463724949736497978881168458687447040000000000000\n"
     ]
    }
   ],
   "source": [
    "# Exercício 2\n",
    "x = int(input(\"Digite um número inteiro: \"))\n",
    "f = 1\n",
    "a = 2\n",
    "while a <= x:\n",
    "  f = f*a\n",
    "  a += 1\n",
    "print(f\"O fatorial de {x} é {f}\")"
   ]
  },
  {
   "cell_type": "code",
   "execution_count": 18,
   "metadata": {
    "colab": {},
    "colab_type": "code",
    "id": "YBZd65-GPS5y"
   },
   "outputs": [
    {
     "name": "stdout",
     "output_type": "stream",
     "text": [
      "Digite o 1º número: 56\n",
      "Digite o 2º número: 23\n",
      "Digite o 3º número: 2\n",
      "Digite o 4º número: 36\n",
      "Digite o 5º número: 54\n",
      "O maior número é o 56 e o menor número é o 2\n"
     ]
    }
   ],
   "source": [
    "# Exercício 3\n",
    "n1 = int(input(\"Digite o 1º número: \"))\n",
    "n2 = int(input(\"Digite o 2º número: \"))\n",
    "n3 = int(input(\"Digite o 3º número: \"))\n",
    "n4 = int(input(\"Digite o 4º número: \"))\n",
    "n5 = int(input(\"Digite o 5º número: \"))\n",
    "maior = n1\n",
    "if n2>n1 and n2>n3 and n2>n4 and n2>n5:\n",
    "  maior = n2\n",
    "if n3>n1 and n3>n2 and n3>n4 and n3>n5:\n",
    "  maior = n3\n",
    "if n4>n1 and n4>n2 and n4>n3 and n4>n5:\n",
    "  maior = n4\n",
    "if n5>n1 and n5>n2 and n5>n3 and n5>n4:\n",
    "  maior = n5\n",
    "menor = n1\n",
    "if n2<n1 and n2<n3 and n2<n4 and n2<n5:\n",
    "  menor = n2\n",
    "if n3<n1 and n3<n2 and n3<n4 and n3<n5:\n",
    "  menor = n3\n",
    "if n4<n1 and n4<n2 and n4<n3 and n4<n5:\n",
    "  menor = n4\n",
    "if n5<n1 and n5<n2 and n5<n3 and n5<n4:\n",
    "  menor = n5\n",
    "print(f\"O maior número é o {maior} e o menor número é o {menor}\")"
   ]
  },
  {
   "cell_type": "code",
   "execution_count": null,
   "metadata": {},
   "outputs": [],
   "source": []
  }
 ],
 "metadata": {
  "accelerator": "GPU",
  "colab": {
   "collapsed_sections": [
    "FLFjxhlJPNFq"
   ],
   "name": "LaçosDeRepetição.ipynb",
   "private_outputs": true,
   "provenance": []
  },
  "kernelspec": {
   "display_name": "Python 3",
   "language": "python",
   "name": "python3"
  },
  "language_info": {
   "codemirror_mode": {
    "name": "ipython",
    "version": 3
   },
   "file_extension": ".py",
   "mimetype": "text/x-python",
   "name": "python",
   "nbconvert_exporter": "python",
   "pygments_lexer": "ipython3",
   "version": "3.7.6"
  }
 },
 "nbformat": 4,
 "nbformat_minor": 1
}
