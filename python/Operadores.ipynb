{
 "cells": [
  {
   "cell_type": "markdown",
   "metadata": {
    "colab_type": "text",
    "id": "1aMFiRCKgaXU"
   },
   "source": [
    "# **Operadores Aritméticos**\n",
    "\n",
    "---\n",
    "\n",
    "![alt text](http://uploaddeimagens.com.br/images/002/157/495/full/novo.jpg?1561548911)"
   ]
  },
  {
   "cell_type": "code",
   "execution_count": 1,
   "metadata": {
    "colab": {},
    "colab_type": "code",
    "id": "F_FhFqcrF17b"
   },
   "outputs": [
    {
     "name": "stdout",
     "output_type": "stream",
     "text": [
      "6\n"
     ]
    }
   ],
   "source": [
    "# SOMA NÚMEROS\n",
    "\n",
    "print(5+1)"
   ]
  },
  {
   "cell_type": "code",
   "execution_count": 2,
   "metadata": {
    "colab": {},
    "colab_type": "code",
    "id": "cooSXrd-ZcJ5"
   },
   "outputs": [
    {
     "name": "stdout",
     "output_type": "stream",
     "text": [
      "chatbot\n"
     ]
    }
   ],
   "source": [
    "# SOMA STRINGS\n",
    "\n",
    "print(\"chat\"+\"bot\")"
   ]
  },
  {
   "cell_type": "code",
   "execution_count": 0,
   "metadata": {
    "colab": {},
    "colab_type": "code",
    "id": "4CW8_SbQZcS9"
   },
   "outputs": [],
   "source": [
    "# SUBTRAÇÃO\n",
    "\n",
    "print(150-50)"
   ]
  },
  {
   "cell_type": "code",
   "execution_count": 0,
   "metadata": {
    "colab": {},
    "colab_type": "code",
    "id": "XVgaRWtFZcam"
   },
   "outputs": [],
   "source": [
    "# MULTIPLICAÇÃO\n",
    "\n",
    "print(5*3)"
   ]
  },
  {
   "cell_type": "code",
   "execution_count": 0,
   "metadata": {
    "colab": {},
    "colab_type": "code",
    "id": "2-ApCdN7ZciJ"
   },
   "outputs": [],
   "source": [
    "# DIVISÃO\n",
    "\n",
    "print(100/3)"
   ]
  },
  {
   "cell_type": "code",
   "execution_count": 0,
   "metadata": {
    "colab": {},
    "colab_type": "code",
    "id": "r9TDnllYZcoR"
   },
   "outputs": [],
   "source": [
    "# EXPONENCIAÇÃO\n",
    "\n",
    "print(2**3)"
   ]
  },
  {
   "cell_type": "code",
   "execution_count": 0,
   "metadata": {
    "colab": {},
    "colab_type": "code",
    "id": "7h8HOrPdZcvf"
   },
   "outputs": [],
   "source": [
    "# PARTE INTEIRA DA DIVISÃO\n",
    "\n",
    "print(100//3)"
   ]
  },
  {
   "cell_type": "code",
   "execution_count": 3,
   "metadata": {
    "colab": {},
    "colab_type": "code",
    "id": "f3icQP7hZc3o"
   },
   "outputs": [
    {
     "name": "stdout",
     "output_type": "stream",
     "text": [
      "1\n"
     ]
    }
   ],
   "source": [
    "# RESTO DA DIVISÃO\n",
    "\n",
    "print(100%3)"
   ]
  },
  {
   "cell_type": "markdown",
   "metadata": {
    "colab_type": "text",
    "id": "wn5kvuiEMjHr"
   },
   "source": [
    "# **Regras de Precedência(PEMDAS)** \n",
    "<br>**P**: de parênteses! tem a mais alta precedência e por isto, em casos onde houverem parênteses, estes cálculos serão realizados primeiro.\n",
    "<br>2 * (3+1) = 8\n",
    "<br>2 * 3 + 1 = 7\n",
    "<br><br>**E**: de exponenciação! possui a segunda precedência mais alta.\n",
    "<br>2 ** 1+1 = 3\n",
    "<br><br>**MDAS**: Multiplicação e Divisão são a terceira precedência mais alta, restando a adição e subtração em ultima posição na ordem de precedência.\n",
    "<br>2 * 3-1 = 5"
   ]
  },
  {
   "cell_type": "code",
   "execution_count": null,
   "metadata": {},
   "outputs": [],
   "source": []
  },
  {
   "cell_type": "markdown",
   "metadata": {
    "colab_type": "text",
    "id": "pUGCKvG6jIjo"
   },
   "source": [
    "# **Operadores Lógicos**\n",
    "\n",
    "---\n",
    "\n",
    "![alt text](http://uploaddeimagens.com.br/images/002/157/489/original/operadores-logicos.jpg?1561548629)"
   ]
  },
  {
   "cell_type": "code",
   "execution_count": 0,
   "metadata": {
    "colab": {},
    "colab_type": "code",
    "id": "eiKaiZN7fdV2"
   },
   "outputs": [],
   "source": [
    "# MAIOR >\n",
    "print(10 > 0)"
   ]
  },
  {
   "cell_type": "code",
   "execution_count": 0,
   "metadata": {
    "colab": {},
    "colab_type": "code",
    "id": "tD0I9RAtav3U"
   },
   "outputs": [],
   "source": [
    "# MENOR <\n",
    "print(0 < 10)"
   ]
  },
  {
   "cell_type": "code",
   "execution_count": 0,
   "metadata": {
    "colab": {},
    "colab_type": "code",
    "id": "LI4sioN2awBD"
   },
   "outputs": [],
   "source": [
    "# MAIOR OU IGUAL >=\n",
    "print(10 >= 10)"
   ]
  },
  {
   "cell_type": "code",
   "execution_count": 0,
   "metadata": {
    "colab": {},
    "colab_type": "code",
    "id": "UPpqU_nmawKJ"
   },
   "outputs": [],
   "source": [
    "# MENOR OU IGUAL <=\n",
    "print(10 <= 20)"
   ]
  },
  {
   "cell_type": "code",
   "execution_count": 0,
   "metadata": {
    "colab": {},
    "colab_type": "code",
    "id": "qbKzfb_2awT3"
   },
   "outputs": [],
   "source": [
    "# IGUAL ==\n",
    "print(10 == 10)"
   ]
  },
  {
   "cell_type": "code",
   "execution_count": 0,
   "metadata": {
    "colab": {},
    "colab_type": "code",
    "id": "WIz9HtKkawc9"
   },
   "outputs": [],
   "source": [
    "# DIFERENTE !=\n",
    "print(10 != \"10\")"
   ]
  },
  {
   "cell_type": "markdown",
   "metadata": {
    "colab_type": "text",
    "id": "u_VX05mencE6"
   },
   "source": [
    "# **Operador in**"
   ]
  },
  {
   "cell_type": "code",
   "execution_count": 0,
   "metadata": {
    "colab": {},
    "colab_type": "code",
    "id": "4m6kUWxnnHUn"
   },
   "outputs": [],
   "source": [
    "# Operador IN verifica se o elemento está contido na estrutura citada\n",
    "x = \"python\"\n",
    "print(\"p\" in x)"
   ]
  },
  {
   "cell_type": "markdown",
   "metadata": {
    "colab_type": "text",
    "id": "v-5cb-wikmAX"
   },
   "source": [
    "## **>>> Exercícios**\n",
    "\n",
    "\n",
    "1.   Crie um algoritmo que solicite do usuário 2 números e apresente a soma de ambos (fácil)\n",
    "2.   Crie um algoritmo que solicite do usuário 2 números e apresente o intervalo númerico entre eles (médio)\n",
    "3.   Crie um algoritmo que solicite do usuário 2 números e apresente o mínimo múltiplo comum(MMC) entre eles (difícil)\n",
    "\n",
    "\n"
   ]
  },
  {
   "cell_type": "code",
   "execution_count": 10,
   "metadata": {},
   "outputs": [
    {
     "name": "stdout",
     "output_type": "stream",
     "text": [
      "Digite um número 2\n",
      "Digite um segundo número 2\n",
      "4\n"
     ]
    }
   ],
   "source": [
    "nun1 = int(input(\"Digite um número \"))\n",
    "nun2 = int(input(\"Digite um segundo número \"))\n",
    "\n",
    "soma = nun1 + nun2\n",
    "print(soma)"
   ]
  },
  {
   "cell_type": "code",
   "execution_count": 42,
   "metadata": {},
   "outputs": [
    {
     "name": "stdout",
     "output_type": "stream",
     "text": [
      "Digite um número 2\n",
      "Digite um segundo número 6\n",
      "Está no intervalo!\n"
     ]
    }
   ],
   "source": [
    "a = int(input(\"Digite um número \"))\n",
    "b = int(input(\"Digite um segundo número \"))\n",
    "\n",
    "if a >= 0 and b <= 2000:\n",
    "    print (\"Está no intervalo!\".format(a, b))\n",
    "\n",
    "\n"
   ]
  },
  {
   "cell_type": "code",
   "execution_count": 46,
   "metadata": {},
   "outputs": [
    {
     "name": "stdout",
     "output_type": "stream",
     "text": [
      "Digite um número: 56\n",
      "Digite um segundo número: 96\n",
      "O mdc de (96,56) é: 8\n"
     ]
    }
   ],
   "source": [
    "num1 = int(input('Digite um número: '))\n",
    "num2 = int(input('Digite um segundo número: '))\n",
    "\n",
    "if num1 < num2:\n",
    "    num1, num2 = num2, num1\n",
    "\n",
    "r1, mdc = num1%num2, num2\n",
    "\n",
    "while r1 != 0:\n",
    "    r1, mdc = mdc%r1, r1\n",
    "    \n",
    "print ('O mdc de (%d,%d) é: %d'%(num1,num2,mdc))"
   ]
  },
  {
   "cell_type": "code",
   "execution_count": null,
   "metadata": {},
   "outputs": [],
   "source": []
  }
 ],
 "metadata": {
  "accelerator": "GPU",
  "colab": {
   "collapsed_sections": [],
   "name": "Operadores.ipynb",
   "private_outputs": true,
   "provenance": []
  },
  "kernelspec": {
   "display_name": "Python 3",
   "language": "python",
   "name": "python3"
  },
  "language_info": {
   "codemirror_mode": {
    "name": "ipython",
    "version": 3
   },
   "file_extension": ".py",
   "mimetype": "text/x-python",
   "name": "python",
   "nbconvert_exporter": "python",
   "pygments_lexer": "ipython3",
   "version": "3.7.6"
  }
 },
 "nbformat": 4,
 "nbformat_minor": 1
}
