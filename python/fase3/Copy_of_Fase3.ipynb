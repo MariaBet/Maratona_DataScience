{
  "nbformat": 4,
  "nbformat_minor": 0,
  "metadata": {
    "colab": {
      "name": "Copy of Fase3.ipynb",
      "provenance": [],
      "collapsed_sections": []
    },
    "kernelspec": {
      "name": "python3",
      "display_name": "Python 3"
    }
  },
  "cells": [
    {
      "cell_type": "markdown",
      "metadata": {
        "id": "CYNAmoj4zSXl",
        "colab_type": "text"
      },
      "source": [
        "Crie um algoritmo em Python que peça uma nota, entre zero e 100. Mostre uma mensagem caso o valor seja inválido e continue pedindo até que o usuário informe um valor válido."
      ]
    },
    {
      "cell_type": "code",
      "metadata": {
        "id": "ViAfpy3GzPN-",
        "colab_type": "code",
        "outputId": "fec127c5-49eb-4198-f9ae-f9d610acac32",
        "colab": {
          "base_uri": "https://localhost:8080/",
          "height": 136
        }
      },
      "source": [
        "# INSIRA SEU CÓDIGO AQUI\n",
        "\n",
        "nota = int(input(\"Digite uma nota entre 0 e 100:  \"))\n",
        "\n",
        "while nota > 100 or nota < 0:\n",
        "    print(\"Numero invalido\")\n",
        "    nota = int(input(\"Digite uma nota entre 0 e 100:  \"))\n",
        "   \n"
      ],
      "execution_count": 0,
      "outputs": [
        {
          "output_type": "stream",
          "text": [
            "Digite uma nota entre 0 e 100:  101\n",
            "Numero invalido\n",
            "Digite uma nota entre 0 e 100:  102\n",
            "Numero invalido\n",
            "Digite uma nota entre 0 e 100:  104\n",
            "Numero invalido\n",
            "Digite uma nota entre 0 e 100:  23\n"
          ],
          "name": "stdout"
        }
      ]
    },
    {
      "cell_type": "markdown",
      "metadata": {
        "id": "gdMis92izSmQ",
        "colab_type": "text"
      },
      "source": [
        "Crie um algoritmo em Python que leia um nome de usuário e a sua senha e não aceite a senha igual ao nome do usuário, mostrando uma mensagem de erro e voltando a pedir as informações.<br>"
      ]
    },
    {
      "cell_type": "code",
      "metadata": {
        "id": "BFpWkdCBz_zh",
        "colab_type": "code",
        "outputId": "41f83f08-9c6a-4b7f-c6c7-f7c9701d295b",
        "colab": {
          "base_uri": "https://localhost:8080/",
          "height": 85
        }
      },
      "source": [
        "# INSIRA SEU CÓDIGO AQUI\n",
        "nome = input(\"Digite o nome de usuário: \")\n",
        "senha = input(\"Digite a senha somente letras: \")\n",
        "\n",
        "while nome == senha:\n",
        "    print(\"Senha invalida não pode ser igual ao nome de usuário!\")\n",
        "    senha = input(\"Digite a senha somente letras: \")\n"
      ],
      "execution_count": 0,
      "outputs": [
        {
          "output_type": "stream",
          "text": [
            "Digite o nome de usuário: maria\n",
            "Digite a senha somente letras: maria\n",
            "Senha invalida não pode ser igual ao nome de usuário!\n",
            "Digite a senha somente letras: betania\n"
          ],
          "name": "stdout"
        }
      ]
    },
    {
      "cell_type": "markdown",
      "metadata": {
        "id": "E_0l_Vx6zSo2",
        "colab_type": "text"
      },
      "source": [
        "Crie um algoritmo em Python que leia e valide as seguintes informações:\n",
        "* Nome: maior que 3 caracteres;\n",
        "* Idade: entre 0 e 150;\n",
        "* Salário: maior que zero;\n",
        "* Sexo: 'f' ou 'm';\n",
        "* Estado Civil: 's', 'c', 'v', 'd';"
      ]
    },
    {
      "cell_type": "code",
      "metadata": {
        "id": "KwJf7XZS0AZW",
        "colab_type": "code",
        "colab": {}
      },
      "source": [
        "# INSIRA SEU CÓDIGO AQUI"
      ],
      "execution_count": 0,
      "outputs": []
    },
    {
      "cell_type": "markdown",
      "metadata": {
        "id": "1i4VCiiczSrL",
        "colab_type": "text"
      },
      "source": [
        "Supondo que a população de um país A seja da ordem de 80000 habitantes com uma taxa anual de crescimento de 3% e que a população de B seja 200000 habitantes com uma taxa de crescimento de 1.5%.<br><br> Crie um algoritmo em Python que calcule e escreva o número de anos necessários para que a população do país A ultrapasse ou iguale a população do país B, mantidas as taxas de crescimento."
      ]
    },
    {
      "cell_type": "code",
      "metadata": {
        "id": "yoW67hjA0BHy",
        "colab_type": "code",
        "outputId": "6e1b14f8-e8c3-4878-c449-dd5733d667b1",
        "colab": {
          "base_uri": "https://localhost:8080/",
          "height": 34
        }
      },
      "source": [
        "# INSIRA SEU CÓDIGO AQUI\n",
        "populacaoA = 80000\n",
        "populacaoB = 200000\n",
        "\n",
        "crescimentoA = 0.03\n",
        "crescimentoB = 0.01\n",
        "\n",
        "ano = 0\n",
        "\n",
        "while populacaoA < populacaoB:\n",
        "    populacaoA += populacaoA * 0.03\n",
        "    populacaoB += populacaoB * 0.015\n",
        "    ano += 1\n",
        "\n",
        "print(\" A População do País A, ultrapassa ou iguala a População do País B em %d anos\" %ano)\n",
        "    "
      ],
      "execution_count": 0,
      "outputs": [
        {
          "output_type": "stream",
          "text": [
            " A População do País A, ultrapassa ou iguala a População do País B em 63 anos\n"
          ],
          "name": "stdout"
        }
      ]
    },
    {
      "cell_type": "markdown",
      "metadata": {
        "id": "4ep7kezvzStO",
        "colab_type": "text"
      },
      "source": [
        "Desenvolva um gerador de tabuada, capaz de gerar a tabuada de qualquer número inteiro entre 1 a 10. O usuário deve informar de qual numero ele deseja ver a tabuada. A saída deve ser conforme o exemplo abaixo:\n",
        "Tabuada de 5:<br>\n",
        "5 X 1 = 5<br>\n",
        "5 X 2 = 10<br>\n",
        "...<br>\n",
        "5 X 10 = 50<br>"
      ]
    },
    {
      "cell_type": "code",
      "metadata": {
        "id": "6K6IHWdr0Blt",
        "colab_type": "code",
        "outputId": "675d3b75-dea0-4d8b-819e-7eccc252c1f1",
        "colab": {
          "base_uri": "https://localhost:8080/",
          "height": 204
        }
      },
      "source": [
        "# INSIRA SEU CÓDIGO AQUI\n",
        "tabuada = int(input(\"Digite a tabuada do número: \"))\n",
        "\n",
        "for count in range(10):\n",
        "    print(\"%d x %d = %d\" % (tabuada, count+1, tabuada*(count+1)) )\n"
      ],
      "execution_count": 0,
      "outputs": [
        {
          "output_type": "stream",
          "text": [
            "Digite a tabuada do número: 6\n",
            "6 x 1 = 6\n",
            "6 x 2 = 12\n",
            "6 x 3 = 18\n",
            "6 x 4 = 24\n",
            "6 x 5 = 30\n",
            "6 x 6 = 36\n",
            "6 x 7 = 42\n",
            "6 x 8 = 48\n",
            "6 x 9 = 54\n",
            "6 x 10 = 60\n"
          ],
          "name": "stdout"
        }
      ]
    },
    {
      "cell_type": "markdown",
      "metadata": {
        "id": "u6__NaXqzeYg",
        "colab_type": "text"
      },
      "source": [
        "Crie um algoritmo em Python que leia três números e mostre o maior e o menor deles."
      ]
    },
    {
      "cell_type": "code",
      "metadata": {
        "id": "mm2L7g3x0Cfx",
        "colab_type": "code",
        "outputId": "3c580c2b-184f-4147-c1e0-62a96d768a7c",
        "colab": {
          "base_uri": "https://localhost:8080/",
          "height": 85
        }
      },
      "source": [
        "# INSIRA SEU CÓDIGO AQUI\n",
        "lista = []\n",
        "\n",
        "numero = 3\n",
        "while numero > 0:\n",
        "    num = int(input(\"Digite um número: \"))\n",
        "    numero -= 1\n",
        "    lista.append(num)\n",
        "print(f\"O número maior é: {max(lista)} e o número menor é: {min(lista)} \")\n",
        "\n"
      ],
      "execution_count": 0,
      "outputs": [
        {
          "output_type": "stream",
          "text": [
            "Digite um número: 2\n",
            "Digite um número: 6\n",
            "Digite um número: 98\n",
            "O número maior é: 98 e o número menor é: 2 \n"
          ],
          "name": "stdout"
        }
      ]
    },
    {
      "cell_type": "markdown",
      "metadata": {
        "id": "lIlfG-ATzgOr",
        "colab_type": "text"
      },
      "source": [
        "Crie um algoritmo em Python que peça 2 números, base e expoente, calcule e mostre o primeiro número elevado ao segundo número. Não utilize a função de potência da linguagem."
      ]
    },
    {
      "cell_type": "code",
      "metadata": {
        "id": "-y4pB6br0DD_",
        "colab_type": "code",
        "outputId": "819714c0-88c6-446b-ecf5-7d22e981aa93",
        "colab": {
          "base_uri": "https://localhost:8080/",
          "height": 68
        }
      },
      "source": [
        "# INSIRA SEU CÓDIGO AQUI\n",
        "base=int(input(\"Base: \"))\n",
        "expoente=int(input(\"Expoente: \"))\n",
        "\n",
        "potencia=1\n",
        "\n",
        "for count in range(expoente):\n",
        "    potencia *= base\n",
        "    count += 1\n",
        "\n",
        "print(base,\"^\",expoente,\"=\",potencia)\n"
      ],
      "execution_count": 0,
      "outputs": [
        {
          "output_type": "stream",
          "text": [
            "Base: 25\n",
            "Expoente: 2\n",
            "25 ^ 2 = 625\n"
          ],
          "name": "stdout"
        }
      ]
    },
    {
      "cell_type": "markdown",
      "metadata": {
        "id": "Vj4OXsJQziu_",
        "colab_type": "text"
      },
      "source": [
        "Crie um algoritmo em Python que peça 10 números inteiros, calcule e mostre a quantidade de números pares e a quantidade de números impares."
      ]
    },
    {
      "cell_type": "code",
      "metadata": {
        "id": "RmApGpg30D00",
        "colab_type": "code",
        "outputId": "aafaefe3-bf6a-472e-dbc7-47078c05e656",
        "colab": {
          "base_uri": "https://localhost:8080/",
          "height": 204
        }
      },
      "source": [
        "# INSIRA SEU CÓDIGO AQUI\n",
        "par = 0\n",
        "impar = 0\n",
        "numero = 10\n",
        "while numero > 0:\n",
        "    inteiro=int(input(\"Digite um número inteiro: \"))\n",
        "    numero -= 1\n",
        "    if (inteiro % 2) == 0:\n",
        "        interiro = par\n",
        "        par = par +1\n",
        "    else:\n",
        "        inteiro = impar\n",
        "        impar = impar +1\n",
        "\n",
        "print(f\"A quantidade de números Pares é: {par} e  A quantidade de números Impares é: {impar} \")\n",
        " \n",
        "    \n",
        "\n"
      ],
      "execution_count": 0,
      "outputs": [
        {
          "output_type": "stream",
          "text": [
            "Digite um número inteiro: 2\n",
            "Digite um número inteiro: 6\n",
            "Digite um número inteiro: 8\n",
            "Digite um número inteiro: 15\n",
            "Digite um número inteiro: 56\n",
            "Digite um número inteiro: 66\n",
            "Digite um número inteiro: 89\n",
            "Digite um número inteiro: 3\n",
            "Digite um número inteiro: 10\n",
            "Digite um número inteiro: 78\n",
            "A quantidade de números Pares é: 7 e  A quantidade de números Impares é: 3 \n"
          ],
          "name": "stdout"
        }
      ]
    },
    {
      "cell_type": "markdown",
      "metadata": {
        "id": "e7id8Ewgzlow",
        "colab_type": "text"
      },
      "source": [
        "Um funcionário de uma empresa recebe aumento salarial anualmente: Sabe-se que:\n",
        "Esse funcionário foi contratado em 1995, com salário inicial de R$ 1.000,00;\n",
        "Em 1996 recebeu aumento de 1,5% sobre seu salário inicial;\n",
        "A partir de 1997 (inclusive), os aumentos salariais sempre correspondem ao dobro do percentual do ano anterior. Crie um algoritmo em Python que determine o salário atual desse funcionário. Após concluir isto, altere o programa permitindo que o usuário digite o salário inicial do funcionário."
      ]
    },
    {
      "cell_type": "code",
      "metadata": {
        "id": "Kl0ainsv0Eif",
        "colab_type": "code",
        "outputId": "d17d025f-a0a0-456c-90d1-83cbfa89ff79",
        "colab": {
          "base_uri": "https://localhost:8080/",
          "height": 476
        }
      },
      "source": [
        "# INSIRA SEU CÓDIGO AQUI\n",
        "salario = float(input(\"Digite o salário do funcionário: \"))\n",
        "percentual = 0.015\n",
        "ano = 1996\n",
        "\n",
        "while ano <= 2020:\n",
        "    print(f'Ano Percentual Salario {ano} {percentual} {salario}')\n",
        "    salario += (salario *(percentual / 100.0))\n",
        "    percentual *= 2\n",
        "    ano += 1\n",
        "\n",
        "print(f'O Salário atual do funcionário: {salario:.2f}'.format(salario))\n"
      ],
      "execution_count": 0,
      "outputs": [
        {
          "output_type": "stream",
          "text": [
            "Digite o salário do funcionário: 1000\n",
            "Ano Percentual Salario 1996 0.015 1000.0\n",
            "Ano Percentual Salario 1997 0.03 1000.15\n",
            "Ano Percentual Salario 1998 0.06 1000.4500449999999\n",
            "Ano Percentual Salario 1999 0.12 1001.0503150269999\n",
            "Ano Percentual Salario 2000 0.24 1002.2515754050323\n",
            "Ano Percentual Salario 2001 0.48 1004.6569791860044\n",
            "Ano Percentual Salario 2002 0.96 1009.4793326860972\n",
            "Ano Percentual Salario 2003 1.92 1019.1703342798837\n",
            "Ano Percentual Salario 2004 3.84 1038.7384046980576\n",
            "Ano Percentual Salario 2005 7.68 1078.625959438463\n",
            "Ano Percentual Salario 2006 15.36 1161.464433123337\n",
            "Ano Percentual Salario 2007 30.72 1339.8653700510815\n",
            "Ano Percentual Salario 2008 61.44 1751.4720117307738\n",
            "Ano Percentual Salario 2009 122.88 2827.576415738161\n",
            "Ano Percentual Salario 2010 245.76 6302.102315397213\n",
            "Ano Percentual Salario 2011 491.52 21790.148965717402\n",
            "Ano Percentual Salario 2012 983.04 128893.08916201157\n",
            "Ano Percentual Salario 2013 1966.08 1395963.7128602501\n",
            "Ano Percentual Salario 2014 3932.16 28841727.07866305\n",
            "Ano Percentual Salario 2015 7864.32 1162944582.57502\n",
            "Ano Percentual Salario 2016 15728.64 92620627978.93884\n",
            "Ano Percentual Salario 2017 31457.28 14660585768525.504\n",
            "Ano Percentual Salario 2018 62914.56 4626482100613745.0\n",
            "Ano Percentual Salario 2019 125829.12 2.915357339180508e+18\n",
            "Ano Percentual Salario 2020 251658.24 3.671283842085429e+21\n",
            "O Salário atual do funcionário: 9242759586238653815324672.00\n"
          ],
          "name": "stdout"
        }
      ]
    },
    {
      "cell_type": "code",
      "metadata": {
        "id": "an1hZ2q-wgqa",
        "colab_type": "code",
        "outputId": "c0d48a97-b145-4e22-a32e-d79a2c47ce09",
        "colab": {
          "base_uri": "https://localhost:8080/",
          "height": 153
        }
      },
      "source": [
        " \n",
        "ano = int(input(\"Digite o ano que foi contratado \"))\n",
        "salario = int(input(\"Digite o salaŕio quando foi contratado: \" ))\n",
        "anoFinalizado = int(input(\"Digite o ultimo ano que trabalhou: \"))\n",
        "ajuste = 0.015\n",
        "ano += 1\n",
        "x = 1\n",
        " \n",
        "while ano <= anoFinalizado:\n",
        "    if ano <= 1995 or x ==1:\n",
        "        ajuste = ajuste\n",
        "    else:\n",
        "        ajuste = ajuste*2\n",
        "    salario = salario + salario*ajuste \n",
        "    print(f'{ano} {ajuste*100} Salario ajustado de R${salario:.1f}'.format(salario))\n",
        "    ano += 1\n",
        "    x += 1"
      ],
      "execution_count": 0,
      "outputs": [
        {
          "output_type": "stream",
          "text": [
            "Digite o ano que foi contratado 1995\n",
            "Digite o salaŕio quando foi contratado: 1000\n",
            "Digite o ultimo ano que trabalhou: 2000\n",
            "1996 1.5 Salario ajustado de R$1015.0\n",
            "1997 3.0 Salario ajustado de R$1045.5\n",
            "1998 6.0 Salario ajustado de R$1108.2\n",
            "1999 12.0 Salario ajustado de R$1241.2\n",
            "2000 24.0 Salario ajustado de R$1539.0\n"
          ],
          "name": "stdout"
        }
      ]
    },
    {
      "cell_type": "markdown",
      "metadata": {
        "id": "5u9i4kzm-itX",
        "colab_type": "text"
      },
      "source": [
        "Crie um algoritmo em Python com uma função que necessite de um argumento. A função retorna o valor de caractere ‘P’, se seu argumento for positivo, e ‘N’, se seu argumento for zero ou negativo."
      ]
    },
    {
      "cell_type": "code",
      "metadata": {
        "id": "WNt8CLa2-rGt",
        "colab_type": "code",
        "outputId": "6d827312-904e-4fea-acec-01e57cf455ef",
        "colab": {
          "base_uri": "https://localhost:8080/",
          "height": 51
        }
      },
      "source": [
        "# INSIRA SEU CÓDIGO AQUI\n",
        "def definir(n):\n",
        "    n = int(input(\"Digite um número: \"))\n",
        "    if n > 0:\n",
        "        return('P')\n",
        "    \n",
        "    else:\n",
        "        return('N')\n",
        "\n",
        "definir(n)"
      ],
      "execution_count": 0,
      "outputs": [
        {
          "output_type": "stream",
          "text": [
            "Digite um número: -1\n"
          ],
          "name": "stdout"
        },
        {
          "output_type": "execute_result",
          "data": {
            "text/plain": [
              "'N'"
            ]
          },
          "metadata": {
            "tags": []
          },
          "execution_count": 98
        }
      ]
    },
    {
      "cell_type": "markdown",
      "metadata": {
        "id": "CHiYMSOJ-rSY",
        "colab_type": "text"
      },
      "source": [
        "Construa uma função que receba uma data no formato DD/MM/AAAA e devolva uma string no formato D de mesPorExtenso de AAAA. Opcionalmente, valide a data e retorne NULL caso a data seja inválida."
      ]
    },
    {
      "cell_type": "code",
      "metadata": {
        "id": "6Ukxx6gQ-r4-",
        "colab_type": "code",
        "outputId": "08aaa2f0-1510-47c5-aa17-11348a598b87",
        "colab": {
          "base_uri": "https://localhost:8080/",
          "height": 51
        }
      },
      "source": [
        "# INSIRA SEU CÓDIGO AQUI\n",
        "\n",
        "import datetime\n",
        "\n",
        "data = int(input(\"Digite a data em formato DD/MM/AAAA: \")) \n",
        "\n",
        "datetime_obj = datetime.datetime.strptime(date_str, format_str)\n",
        " \n",
        "print(datetime_obj.strftime(\"%d/%m/%Y\"))\n"
      ],
      "execution_count": 0,
      "outputs": [
        {
          "output_type": "stream",
          "text": [
            "Digite a data em formato DD/MM/AAAA: 552020\n",
            "08/05/2020\n"
          ],
          "name": "stdout"
        }
      ]
    },
    {
      "cell_type": "markdown",
      "metadata": {
        "id": "AzUYbZ8A-zj7",
        "colab_type": "text"
      },
      "source": [
        "Crie uma classe que modele uma pessoa:<br>\n",
        "\n",
        "Atributos: nome, idade, peso e altura<br>\n",
        "Métodos: Envelhercer, engordar, emagrecer, crescer.<br>\n",
        "<br>Obs: Por padrão, a cada ano que nossa pessoa envelhece, sendo a idade dela menor que 21 anos, ela deve crescer 0,5 cm."
      ]
    },
    {
      "cell_type": "code",
      "metadata": {
        "id": "qobhV-FC-zRS",
        "colab_type": "code",
        "outputId": "7a10ff6e-2103-4af6-fc4c-04768cbaabfc",
        "colab": {
          "base_uri": "https://localhost:8080/",
          "height": 51
        }
      },
      "source": [
        "# INSIRA SEU CÓDIGO AQUI\n",
        "\n",
        "class Pessoa():\n",
        "    def __init__(self, nome: str, idade: int, peso: float, altura: float):\n",
        "        self.nome = nome\n",
        "        self.idade = idade\n",
        "        self.peso = peso\n",
        "        self.altura = altura\n",
        "\n",
        "    def envelhecer(self):\n",
        "        if self.idade > 21:\n",
        "            self.altura += 0.5\n",
        "\n",
        "    def engordar(self, peso):\n",
        "        self.peso += peso\n",
        "\n",
        "    def emagrecer(self, peso):\n",
        "        self.peso -= peso\n",
        "\n",
        "    def crecer(self, altura):\n",
        "        self.altura += altura\n",
        "\n",
        "    def formaPessoa(self):\n",
        "        print(f'Nome: {self.nome}, idade: {self.idade} anos, peso: {self.peso}Kg, altura: {self.altura}m')\n",
        "\n",
        "p1 = Pessoa('Betania', 24, 49.3, 1.60)\n",
        "p1.formaPessoa()\n",
        "p1.envelhecer()\n",
        "p1.emagrecer(2)\n",
        "p1.formaPessoa()\n"
      ],
      "execution_count": 0,
      "outputs": [
        {
          "output_type": "stream",
          "text": [
            "Nome: Betania, idade: 24 anos, peso: 49.3Kg, altura: 1.6m\n",
            "Nome: Betania, idade: 24 anos, peso: 47.3Kg, altura: 2.1m\n"
          ],
          "name": "stdout"
        }
      ]
    },
    {
      "cell_type": "code",
      "metadata": {
        "id": "K2c1uqdkjFjX",
        "colab_type": "code",
        "colab": {}
      },
      "source": [
        ""
      ],
      "execution_count": 0,
      "outputs": []
    }
  ]
}