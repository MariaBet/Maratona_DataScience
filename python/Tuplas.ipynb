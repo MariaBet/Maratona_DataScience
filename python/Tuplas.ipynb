{
 "cells": [
  {
   "cell_type": "markdown",
   "metadata": {
    "colab_type": "text",
    "id": "6cLGqA4-QPVq"
   },
   "source": [
    "# **Tuplas**\n",
    "\n",
    "---"
   ]
  },
  {
   "cell_type": "code",
   "execution_count": 0,
   "metadata": {
    "colab": {},
    "colab_type": "code",
    "id": "_wUSigmvQN2s"
   },
   "outputs": [],
   "source": [
    "# São como listas, entretanto imutáveis\n",
    "meses = (\"janeiro\",\"fevereiro\",\"março\")\n",
    "print(type(meses))"
   ]
  },
  {
   "cell_type": "code",
   "execution_count": 0,
   "metadata": {
    "colab": {},
    "colab_type": "code",
    "id": "VTZaI0F4RNAP"
   },
   "outputs": [],
   "source": [
    "# Imutáveis mesmo ?\n",
    "x = list(meses)\n",
    "print(type(x))"
   ]
  },
  {
   "cell_type": "code",
   "execution_count": 0,
   "metadata": {
    "colab": {},
    "colab_type": "code",
    "id": "cgncY-YWRZ0W"
   },
   "outputs": [],
   "source": [
    "x.append(\"abril\")\n",
    "print(x)"
   ]
  },
  {
   "cell_type": "code",
   "execution_count": 0,
   "metadata": {
    "colab": {},
    "colab_type": "code",
    "id": "4lD9O8vwRhst"
   },
   "outputs": [],
   "source": [
    "meses = tuple(x)\n",
    "print(meses)"
   ]
  },
  {
   "cell_type": "code",
   "execution_count": 0,
   "metadata": {
    "colab": {},
    "colab_type": "code",
    "id": "Xx6gnAW5RnxH"
   },
   "outputs": [],
   "source": [
    "print(type(meses))"
   ]
  },
  {
   "cell_type": "code",
   "execution_count": 0,
   "metadata": {
    "colab": {},
    "colab_type": "code",
    "id": "AwW_4lCzcC7q"
   },
   "outputs": [],
   "source": [
    "# Slicing com Tuplas\n",
    "print(meses[1:])"
   ]
  },
  {
   "cell_type": "code",
   "execution_count": 0,
   "metadata": {
    "colab": {},
    "colab_type": "code",
    "id": "fZ6UGw-KcThO"
   },
   "outputs": [],
   "source": [
    "# len() em tuplas\n",
    "print(len(meses))"
   ]
  },
  {
   "cell_type": "code",
   "execution_count": 0,
   "metadata": {
    "colab": {},
    "colab_type": "code",
    "id": "c66QqQERcO8Y"
   },
   "outputs": [],
   "source": [
    "# Atribuição em tuplas? não é possível\n",
    "meses[3] = \"abril\""
   ]
  },
  {
   "cell_type": "code",
   "execution_count": 0,
   "metadata": {
    "colab": {},
    "colab_type": "code",
    "id": "pdifpt8hQ8SO"
   },
   "outputs": [],
   "source": [
    "dir(tuple)"
   ]
  },
  {
   "cell_type": "code",
   "execution_count": 0,
   "metadata": {
    "colab": {},
    "colab_type": "code",
    "id": "J_7OFzeYRC1C"
   },
   "outputs": [],
   "source": [
    "help(tuple)"
   ]
  }
 ],
 "metadata": {
  "accelerator": "GPU",
  "colab": {
   "collapsed_sections": [],
   "name": "Tuplas.ipynb",
   "private_outputs": true,
   "provenance": []
  },
  "kernelspec": {
   "display_name": "Python 3",
   "language": "python",
   "name": "python3"
  },
  "language_info": {
   "codemirror_mode": {
    "name": "ipython",
    "version": 3
   },
   "file_extension": ".py",
   "mimetype": "text/x-python",
   "name": "python",
   "nbconvert_exporter": "python",
   "pygments_lexer": "ipython3",
   "version": "3.7.6"
  }
 },
 "nbformat": 4,
 "nbformat_minor": 1
}
