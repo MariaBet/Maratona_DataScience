{
 "cells": [
  {
   "cell_type": "markdown",
   "metadata": {
    "colab_type": "text",
    "id": "LKHZacgn1rnQ"
   },
   "source": [
    "# **>>> POO(Extras)**\n",
    "\n",
    "---\n",
    "\n",
    "Habitue-se a usar estas ferramentas, tornando assim seu código mais conciso."
   ]
  },
  {
   "cell_type": "markdown",
   "metadata": {
    "colab_type": "text",
    "id": "yCcQFv992UoR"
   },
   "source": [
    "## >>> Funções Orientadas a Expressões"
   ]
  },
  {
   "cell_type": "markdown",
   "metadata": {
    "colab_type": "text",
    "id": "0czpzN-Z2dL9"
   },
   "source": [
    "### **LAMBDA**\n",
    "\n",
    "---\n",
    "\n",
    "função anônima e sem o \"def\";"
   ]
  },
  {
   "cell_type": "code",
   "execution_count": 0,
   "metadata": {
    "colab": {},
    "colab_type": "code",
    "id": "7Hb6HtKR1paI"
   },
   "outputs": [],
   "source": [
    "raiz = lambda x: x**2\n",
    "print(raiz(2))"
   ]
  },
  {
   "cell_type": "markdown",
   "metadata": {
    "colab_type": "text",
    "id": "dGzG27Hl29bs"
   },
   "source": [
    "### **map(função, sequência)**\n",
    "\n",
    "---\n",
    "\n",
    "função inline que mapeia e aplica a todos elementos;"
   ]
  },
  {
   "cell_type": "code",
   "execution_count": 0,
   "metadata": {
    "colab": {},
    "colab_type": "code",
    "id": "MuuYqHj73N6G"
   },
   "outputs": [],
   "source": [
    "lista = [1,2,3,4,5,6,7,8,9,10]\n",
    "print(map(lambda x: x**2, lista))"
   ]
  },
  {
   "cell_type": "code",
   "execution_count": 0,
   "metadata": {
    "colab": {},
    "colab_type": "code",
    "id": "w1U-Vjfv3cxB"
   },
   "outputs": [],
   "source": [
    "# Para acessar os valores do objeto e não o objeto, declare como lista\n",
    "print(list(map(lambda x: x**2, lista)))"
   ]
  },
  {
   "cell_type": "code",
   "execution_count": 0,
   "metadata": {
    "colab": {},
    "colab_type": "code",
    "id": "b8JpqQyr4l72"
   },
   "outputs": [],
   "source": [
    "help(map)"
   ]
  },
  {
   "cell_type": "markdown",
   "metadata": {
    "colab_type": "text",
    "id": "n5b2ykL13tjs"
   },
   "source": [
    "### **reduce(função, sequência)**\n",
    "\n",
    "---\n",
    "\n",
    "função inline que reduz a sequência a um único valor"
   ]
  },
  {
   "cell_type": "code",
   "execution_count": 0,
   "metadata": {
    "colab": {},
    "colab_type": "code",
    "id": "f_JoHejl30LC"
   },
   "outputs": [],
   "source": [
    "from functools import reduce\n",
    "print(reduce((lambda x, y: x*y), [1,2,3,4]))"
   ]
  },
  {
   "cell_type": "code",
   "execution_count": 0,
   "metadata": {
    "colab": {},
    "colab_type": "code",
    "id": "GTuJ1e4F4dwd"
   },
   "outputs": [],
   "source": [
    "help(reduce)"
   ]
  },
  {
   "cell_type": "markdown",
   "metadata": {
    "colab_type": "text",
    "id": "IlUMukSz45nj"
   },
   "source": [
    "### **filter(função, sequência)**\n",
    "\n",
    "---\n",
    "\n",
    "função inline que filtra os elementos da sequência que retornam True"
   ]
  },
  {
   "cell_type": "code",
   "execution_count": 0,
   "metadata": {
    "colab": {},
    "colab_type": "code",
    "id": "E2Aso6Fi45GW"
   },
   "outputs": [],
   "source": [
    "lista = [-1,-2,-3,0,1,2,3]\n",
    "print(list(filter(lambda x: x<0,lista)))"
   ]
  },
  {
   "cell_type": "markdown",
   "metadata": {
    "colab_type": "text",
    "id": "-S6bupfZ5gO2"
   },
   "source": [
    "### **List Comprehension**\n",
    "\n",
    "---\n",
    "\n",
    "Desenvolve loops dentro de uma sequência e possui desempenho superior ao \"For\"."
   ]
  },
  {
   "cell_type": "code",
   "execution_count": 0,
   "metadata": {
    "colab": {},
    "colab_type": "code",
    "id": "v33eOOIc5yUf"
   },
   "outputs": [],
   "source": [
    "print(list(x for x in range(30) if x % 3 == 0))"
   ]
  },
  {
   "cell_type": "markdown",
   "metadata": {
    "colab_type": "text",
    "id": "3eKqsaEH5jsk"
   },
   "source": [
    "### **Zip**\n",
    "\n",
    "---\n",
    "\n",
    "função inline que zipa 2 sequências retornando uma com o número de elementos da menor"
   ]
  },
  {
   "cell_type": "code",
   "execution_count": 0,
   "metadata": {
    "colab": {},
    "colab_type": "code",
    "id": "Fq0SM5GO5zfT"
   },
   "outputs": [],
   "source": [
    "# as sequências devem conter o mesmo número de elementos\n",
    "s1 = [1,2,3]\n",
    "s2 = [\"um\", \"dois\", \"três\"]\n",
    "print(list(zip(s1,s2)))"
   ]
  },
  {
   "cell_type": "markdown",
   "metadata": {
    "colab_type": "text",
    "id": "BjjkSCWJ6LEF"
   },
   "source": [
    "### **Enumerate**\n",
    "\n",
    "---\n",
    "\n",
    "Numera valores com o índice de cada valor"
   ]
  },
  {
   "cell_type": "code",
   "execution_count": 0,
   "metadata": {
    "colab": {},
    "colab_type": "code",
    "id": "sool_awQ6SuJ"
   },
   "outputs": [],
   "source": [
    "a1 = \"Alô, Mundo\"\n",
    "print(list(enumerate(a1)))"
   ]
  }
 ],
 "metadata": {
  "colab": {
   "collapsed_sections": [
    "JxVgcRze7Y3f"
   ],
   "name": "POO(extras).ipynb",
   "provenance": []
  },
  "kernelspec": {
   "display_name": "Python 3",
   "language": "python",
   "name": "python3"
  },
  "language_info": {
   "codemirror_mode": {
    "name": "ipython",
    "version": 3
   },
   "file_extension": ".py",
   "mimetype": "text/x-python",
   "name": "python",
   "nbconvert_exporter": "python",
   "pygments_lexer": "ipython3",
   "version": "3.7.6"
  }
 },
 "nbformat": 4,
 "nbformat_minor": 1
}
