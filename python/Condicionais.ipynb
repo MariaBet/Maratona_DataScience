{
 "cells": [
  {
   "cell_type": "markdown",
   "metadata": {
    "colab_type": "text",
    "id": "LSPHqVUFckTR"
   },
   "source": [
    "# **If**"
   ]
  },
  {
   "cell_type": "code",
   "execution_count": 0,
   "metadata": {
    "colab": {},
    "colab_type": "code",
    "id": "UshFBe_vF_EQ"
   },
   "outputs": [],
   "source": [
    "x = 10\n",
    "if x > 0:\n",
    "\tprint('Número positivo')\n",
    "else:\n",
    "\tprint('Número negativo')"
   ]
  },
  {
   "cell_type": "markdown",
   "metadata": {
    "colab_type": "text",
    "id": "hzFJUWCkp1ik"
   },
   "source": [
    "# **Conectivos Lógicos**\n",
    "![alt text](http://uploaddeimagens.com.br/images/002/157/511/full/conectivos-logicos.jpg?1561550251)"
   ]
  },
  {
   "cell_type": "code",
   "execution_count": 0,
   "metadata": {
    "colab": {},
    "colab_type": "code",
    "id": "O4RpA6p5baPA"
   },
   "outputs": [],
   "source": [
    "x = \"janeiro\"\n",
    "if x == 'janeiro' or x == 'fevereiro' or x == 'março':\n",
    "\tprint('Trimestre 1')\n",
    "elif x == 'abril' or x == 'maio' or x == 'junho':\n",
    "\tprint('Trimestre 2')\n",
    "else:\n",
    "\tprint('Trimestre 3')"
   ]
  },
  {
   "cell_type": "markdown",
   "metadata": {
    "colab_type": "text",
    "id": "q1yVwPBZl3Jl"
   },
   "source": [
    "## **>>> Exercícios**\n",
    "\n",
    "\n",
    "1.   Crie um algoritmo que solicite do usuário um número e calcule se ele é POSITIVO ou NEGATIVO (fácil)\n",
    "2.   Crie um algoritmo que solicite peso e altura e como resultado printe o IMC na tela (médio)\n",
    "3.   Crie um algoritmo que solicite do usuário um número e printe na tela PAR, quando número par e IMPAR, quando número ímpar(difícil)"
   ]
  },
  {
   "cell_type": "code",
   "execution_count": 3,
   "metadata": {},
   "outputs": [
    {
     "name": "stdout",
     "output_type": "stream",
     "text": [
      "Digite um número 0\n",
      "Numero Negativo\n"
     ]
    }
   ],
   "source": [
    "num = int(input(\"Digite um número \"))\n",
    "\n",
    "if num > 1:\n",
    "    print(\"Numero Positivo\")\n",
    "    \n",
    "elif num < 1:\n",
    "    print(\"Numero Negativo\")"
   ]
  },
  {
   "cell_type": "code",
   "execution_count": 6,
   "metadata": {},
   "outputs": [
    {
     "name": "stdout",
     "output_type": "stream",
     "text": [
      "Digite o seu peso 43\n",
      "Digite a sua altura 1.60\n",
      "Seu IMC é 16.80\n"
     ]
    }
   ],
   "source": [
    "peso = float(input(\"Digite o seu peso \"))\n",
    "altura = float(input(\"Digite a sua altura \"))\n",
    "\n",
    "imc = peso/(altura * altura)\n",
    "\n",
    "print(\"Seu IMC é {:.2f}\".format(imc))"
   ]
  },
  {
   "cell_type": "code",
   "execution_count": 17,
   "metadata": {},
   "outputs": [
    {
     "name": "stdout",
     "output_type": "stream",
     "text": [
      "Digete um número: 20\n",
      "Número 20 é par\n"
     ]
    }
   ],
   "source": [
    "numero = int(input(\"Digete um número: \"))\n",
    "\n",
    "if (numero % 2) == 0:\n",
    "    print(\"Número\", numero, \"é par\")\n",
    "else:\n",
    "    print(\"O Número\", numero, \"é impar\")"
   ]
  },
  {
   "cell_type": "code",
   "execution_count": null,
   "metadata": {},
   "outputs": [],
   "source": []
  }
 ],
 "metadata": {
  "accelerator": "GPU",
  "colab": {
   "collapsed_sections": [],
   "name": "Condicionais.ipynb",
   "private_outputs": true,
   "provenance": []
  },
  "kernelspec": {
   "display_name": "Python 3",
   "language": "python",
   "name": "python3"
  },
  "language_info": {
   "codemirror_mode": {
    "name": "ipython",
    "version": 3
   },
   "file_extension": ".py",
   "mimetype": "text/x-python",
   "name": "python",
   "nbconvert_exporter": "python",
   "pygments_lexer": "ipython3",
   "version": "3.7.6"
  }
 },
 "nbformat": 4,
 "nbformat_minor": 1
}
